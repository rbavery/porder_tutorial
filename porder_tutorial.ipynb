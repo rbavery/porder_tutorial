{
 "cells": [
  {
   "cell_type": "markdown",
   "metadata": {},
   "source": [
    "# Tutorial Setup"
   ]
  },
  {
   "cell_type": "markdown",
   "metadata": {},
   "source": [
    "1. Install git following instructions for your operating system: https://carpentries.github.io/workshop-template/#git\n",
    "2. If you have python installed, follow these instructions to install `porder`: https://github.com/samapriya/porder#prerequisites\n",
    "    - If you don't have python installed, follow the instructions for your operating system: https://carpentries.github.io/workshop-template/#python\n",
    "    - most OS's come with python nowadays and you can use python 2 for this tutorial. If you don't have a package you can install it with `pip install package-name`. You can check if you have python by opening a terminal and running `python`\n",
    "3. Download this repository and notebook with the terminal command: `git clone https://github.com/rbavery/porder_tutorial.git`\n",
    "4. `cd porder_tutorial`\n",
    "5. `jupyter lab` or `jupyter notebook`. If you don't have jupyter installed, install it with `pip install jupyterlab`"
   ]
  },
  {
   "cell_type": "markdown",
   "metadata": {},
   "source": [
    "# First things first, what's this notebook thing?"
   ]
  },
  {
   "cell_type": "markdown",
   "metadata": {},
   "source": [
    "For this tutorial we will be running terminal commands from within a jupyter notebook. A jupyter notebook allows you to mix code and markdown (basically, text) wihtin a single document. As we step through and execute the commands, feel free to take notes in a seperate markdown cell (like this one!). AFter the tutorial, refer back to your notebook in case you get stuck using porder. You can use porder through your native shell or the notebook.\n",
    "\n",
    "You can turn a code cell into a markdown cell or vice-versa by using the menu bar above. Keyboard shortcuts for manipulating the jupyter notebook are listed in help, feel free to try these out as we go along."
   ]
  },
  {
   "cell_type": "code",
   "execution_count": null,
   "metadata": {},
   "outputs": [],
   "source": []
  },
  {
   "cell_type": "markdown",
   "metadata": {},
   "source": [
    "Before continuing through the notebook, make sure you have installed porder. If you had to install `porder` in a [conda environment](https://docs.conda.io/projects/conda/en/latest/user-guide/concepts/environments.html) then make sure you have also installed `ipykernel` in that environment. If any of this is confusing or you need help getting porder installed and usable in your notebook, get in touch with Ryan (ravery@ucsb.edu)"
   ]
  },
  {
   "cell_type": "markdown",
   "metadata": {},
   "source": [
    "! makes the cell execute bash code instead of python code. Here we list out the files and folders in out current working directory (cwd). The cwd is the same as the directory where we started the jupyter notebook"
   ]
  },
  {
   "cell_type": "code",
   "execution_count": 5,
   "metadata": {},
   "outputs": [
    {
     "name": "stdout",
     "output_type": "stream",
     "text": [
      "data/  porder_tutorial.ipynb  san_pedro.geojson\n"
     ]
    }
   ],
   "source": [
    "!ls -F"
   ]
  },
  {
   "cell_type": "markdown",
   "metadata": {},
   "source": []
  },
  {
   "cell_type": "markdown",
   "metadata": {},
   "source": [
    "All terminal programs available in your native shell are available through the notebook, including porder."
   ]
  },
  {
   "cell_type": "code",
   "execution_count": 3,
   "metadata": {},
   "outputs": [
    {
     "name": "stdout",
     "output_type": "stream",
     "text": [
      "usage: porder [-h]\n",
      "              {version,quota,shp2geojson,base64,simplify,idlist,difflist,idsplit,idcheck,bundles,order,ordersize,ostate,stats,download,multipart,multiproc}\n",
      "              ...\n",
      "\n",
      "Ordersv2 Simple Client\n",
      "\n",
      "positional arguments:\n",
      "  {version,quota,shp2geojson,base64,simplify,idlist,difflist,idsplit,idcheck,bundles,order,ordersize,ostate,stats,download,multipart,multiproc}\n",
      "    version             Prints porder version and exists\n",
      "    quota               Prints your Planet Quota Details\n",
      "    shp2geojson         Convert all shapefiles in folder to GeoJSON\n",
      "    base64              Base 64 encode a JSON file\n",
      "    simplify            Simplifies geometry to number of vertices specified\n",
      "                        using Visvalingam-Wyatt line simplification algorithm\n",
      "    idlist              Get idlist using geometry & filters\n",
      "    difflist            Checks the difference between local files and\n",
      "                        available Planet assets\n",
      "    idsplit             Splits ID list incase you want to run them in small\n",
      "                        batches\n",
      "    idcheck             Check idlist for estimating clipped area\n",
      "    bundles             Check bundles of assets for given tiem type\n",
      "    order               Place an order & get order url currently supports\n",
      "                        \"toar\",\"clip\",\"composite\",\"reproject\",\"compression\"\n",
      "    ordersize           Estimate total download size\n",
      "    ostate              Get list of orders by state and date range\n",
      "    stats               Prints number of orders queued and running for org &\n",
      "                        user\n",
      "    download            Downloads all files in your order\n",
      "    multipart           Uses multiprocessing to download for all files in your\n",
      "                        order\n",
      "    multiproc           Multiprocess based downloader to download for all\n",
      "                        files in your order\n",
      "\n",
      "optional arguments:\n",
      "  -h, --help            show this help message and exit\n"
     ]
    }
   ],
   "source": [
    "!porder -h"
   ]
  },
  {
   "cell_type": "markdown",
   "metadata": {},
   "source": []
  },
  {
   "cell_type": "markdown",
   "metadata": {},
   "source": [
    "There are a lot of commands available, but the ones I've used most often include:\n",
    "\n",
    "1. `porder idlist` to search for planet imagery in an area of interest and create the list of ids used to order imagery\n",
    "2. `porder order` to place the order\n",
    "3. `porder multiproc` to download the order\n",
    "\n",
    "We will run these 3 commands to order some 4-band 3.5 meter Planetscope imagery over the [San Pedro Riparian National Conservation Area](https://visit.sierravistaaz.gov/see-do/nature-science/san-pedro-riparian-national-conservation-area/)\n",
    "\n",
    "If you would like to work with a different area for this tutorial, you can quickly draw a bounding box and downloa din geojson format using this tool: http://geojson.io/#map=2/20.0/0.0"
   ]
  },
  {
   "cell_type": "markdown",
   "metadata": {},
   "source": [
    "To get help for a particular command, run that command with the `-h` flag"
   ]
  },
  {
   "cell_type": "code",
   "execution_count": 7,
   "metadata": {},
   "outputs": [
    {
     "name": "stdout",
     "output_type": "stream",
     "text": [
      "usage: porder idlist [-h] --input INPUT --start START --end END --item ITEM\n",
      "                     [--asset ASSET] --outfile OUTFILE [--cmin CMIN]\n",
      "                     [--cmax CMAX] [--number NUMBER] [--overlap OVERLAP]\n",
      "                     [--filters FILTERS [FILTERS ...]]\n",
      "\n",
      "optional arguments:\n",
      "  -h, --help            show this help message and exit\n",
      "\n",
      "Required named arguments.:\n",
      "  --input INPUT         Input geometry file for now geojson/json/kml\n",
      "  --start START         Start date in format YYYY-MM-DD\n",
      "  --end END             End date in format YYYY-MM-DD\n",
      "  --item ITEM           Item Type PSScene4Band|PSOrthoTile|REOrthoTile etc\n",
      "  --asset ASSET         Asset Type analytic, analytic_sr,visual etc\n",
      "  --outfile OUTFILE     Output csv file\n",
      "\n",
      "Optional named arguments:\n",
      "  --cmin CMIN           Minimum cloud cover 0-1 represents 0 to 100\n",
      "  --cmax CMAX           Maximum cloud cover 0-1 represents 0 to 100\n",
      "  --number NUMBER       Total number of assets, give a large number if you are\n",
      "                        not sure\n",
      "  --overlap OVERLAP     Percentage overlap of image with search area range\n",
      "                        between 0 to 100\n",
      "  --filters FILTERS [FILTERS ...]\n",
      "                        Add an additional string or range filter, Read Me\n"
     ]
    }
   ],
   "source": [
    "!porder idlist -h"
   ]
  },
  {
   "cell_type": "markdown",
   "metadata": {},
   "source": [
    "We will order a scene with 100% overlap in our study area, less than 5% cloud cover, and limit the number of assets returned to 1 for demonstration. Two of the more common mistakes is to not wrap arguments in quotes \"\" and using relative paths instead of absolute paths for the `--outfile` and  `--input` geojson. As you can see, a single order can have lots of flags and turn out to be very long, so make sure refer back to this notebook or the porder github page if you get stuck typing one of these out."
   ]
  },
  {
   "cell_type": "code",
   "execution_count": 16,
   "metadata": {},
   "outputs": [
    {
     "name": "stdout",
     "output_type": "stream",
     "text": [
      "\n",
      "Running search for a maximum of: 1 assets\n",
      "Total number of assets written to /home/rave/planet_tutorial/data/idlist.csv ===> 1\n",
      "Total estimated cost to quota: 181.0 sqkm\n",
      "Total estimated cost to quota if clipped: 181.0 sqkm\n"
     ]
    }
   ],
   "source": [
    "!porder idlist --input \"/home/rave/planet_tutorial/san_pedro_section.geojson\" --start \"2019-06-01\" --end \"2019-06-08\" --item \"PSScene4Band\" --asset \"analytic_sr\" --outfile \"/home/rave/planet_tutorial/data/idlist.csv\" --cmax \".05\" --number \"1\" --overlap \"100\""
   ]
  },
  {
   "cell_type": "code",
   "execution_count": 18,
   "metadata": {},
   "outputs": [
    {
     "name": "stdout",
     "output_type": "stream",
     "text": [
      "usage: porder order [-h] --name NAME --idlist IDLIST --item ITEM --bundle\n",
      "                    BUNDLE [--sid SID] [--boundary BOUNDARY]\n",
      "                    [--projection PROJECTION] [--kernel KERNEL]\n",
      "                    [--compression COMPRESSION] [--aws AWS] [--azure AZURE]\n",
      "                    [--gcs GCS] [--op OP [OP ...]]\n",
      "\n",
      "optional arguments:\n",
      "  -h, --help            show this help message and exit\n",
      "\n",
      "Required named arguments.:\n",
      "  --name NAME           Order Name to be Submitted\n",
      "  --idlist IDLIST       CSV idlist with item IDs\n",
      "  --item ITEM           Item Type PSScene4Band|PSOrthoTile|REOrthoTile etc\n",
      "  --bundle BUNDLE       Bundle Type: analytic, analytic_sr,analytic_sr_udm2\n",
      "\n",
      "Optional named arguments:\n",
      "  --sid SID             Subscription ID\n",
      "  --boundary BOUNDARY   Boundary/geometry for clip operation geojson|json|kml\n",
      "  --projection PROJECTION\n",
      "                        Projection for reproject operation of type \"EPSG:4326\"\n",
      "  --kernel KERNEL       Resampling kernel used \"near\", \"bilinear\", \"cubic\",\n",
      "                        \"cubicspline\", \"lanczos\", \"average\" and \"mode\"\n",
      "  --compression COMPRESSION\n",
      "                        Compression type used for tiff_optimize tool,\n",
      "                        \"lzw\"|\"deflate\"\n",
      "  --aws AWS             AWS cloud credentials config yml file\n",
      "  --azure AZURE         Azure cloud credentials config yml file\n",
      "  --gcs GCS             GCS cloud credentials config yml file\n",
      "  --op OP [OP ...]      Add operations, delivery & notification clip|toar|harm\n",
      "                        onize|composite|zip|zipall|compression|projection|kern\n",
      "                        el|aws|azure|gcs|email <Choose indices from>:\n",
      "                        ndvi|gndvi|bndvi|ndwi|tvi|osavi|evi2|msavi2|sr\n"
     ]
    }
   ],
   "source": [
    "!porder order -h"
   ]
  },
  {
   "cell_type": "markdown",
   "metadata": {},
   "source": [
    "Below we submit the idlist.csv with the order command. Make sure to copy the url that is returned as we will use that in the download step. It should take about 5 minutes for the order to complete."
   ]
  },
  {
   "cell_type": "code",
   "execution_count": 19,
   "metadata": {},
   "outputs": [
    {
     "name": "stdout",
     "output_type": "stream",
     "text": [
      "Headless Setup: Order created at https://api.planet.com/compute/ops/orders/v2/6fa59a43-360b-4da7-9dc5-b9581fa2e3ad\n"
     ]
    }
   ],
   "source": [
    "!porder order --name \"San Pedro Test\" --idlist \"/home/rave/planet_tutorial/data/idlist.csv\" --item \"PSScene4Band\" --bundle \"analytic_sr\""
   ]
  },
  {
   "cell_type": "markdown",
   "metadata": {},
   "source": [
    "You should receive an email when your order is complete, but you can also check on the status of your order with the following command. Initially it will show that an order is running for for user, when it is ready to download, it will show 0 running orders for user."
   ]
  },
  {
   "cell_type": "code",
   "execution_count": 22,
   "metadata": {},
   "outputs": [
    {
     "name": "stdout",
     "output_type": "stream",
     "text": [
      "Checking on all running orders...\n",
      "\n",
      "Total queued order for organization: 0\n",
      "Total running orders for organization: 0\n",
      "\n",
      "Total queued orders for user: 0\n",
      "Total running orders for user: 0\n"
     ]
    }
   ],
   "source": [
    "!porder stats"
   ]
  },
  {
   "cell_type": "markdown",
   "metadata": {},
   "source": [
    "Once the order is complete, we can download it. This should go quick."
   ]
  },
  {
   "cell_type": "code",
   "execution_count": 23,
   "metadata": {},
   "outputs": [
    {
     "name": "stdout",
     "output_type": "stream",
     "text": [
      "usage: porder multiproc [-h] [--url URL] [--local LOCAL] [--ext EXT]\n",
      "\n",
      "optional arguments:\n",
      "  -h, --help     show this help message and exit\n",
      "  --url URL      order url you got for your order\n",
      "  --local LOCAL  Output folder where ordered files will be exported\n",
      "\n",
      "Optional named arguments:\n",
      "  --ext EXT      File Extension to download\n"
     ]
    }
   ],
   "source": [
    "!porder multiproc -h"
   ]
  },
  {
   "cell_type": "code",
   "execution_count": 24,
   "metadata": {},
   "outputs": [
    {
     "name": "stdout",
     "output_type": "stream",
     "text": [
      "Polling with exponential backoff..\n",
      "Order completed with status: success\n",
      "Downloading a total of 5 objects\n",
      "Starting download of 20190606_164931_104b_metadata.json Process-1\n",
      "Starting download of 20190606_164931_104b_3B_AnalyticMS_DN_udm.tif Process-2\n",
      "Starting download of 20190606_164931_104b_manifest.json Process-4\n",
      "Starting download of 20190606_164931_104b_3B_AnalyticMS_SR.tif Process-3\n",
      "Starting download of 20190606_164931_104b_3B_AnalyticMS_metadata.xml Process-5\n"
     ]
    }
   ],
   "source": [
    "!porder multiproc --url \"https://api.planet.com/compute/ops/orders/v2/6fa59a43-360b-4da7-9dc5-b9581fa2e3ad\" --local \"/home/rave/planet_tutorial/data/\""
   ]
  },
  {
   "cell_type": "markdown",
   "metadata": {},
   "source": [
    "Sweet! We have imagery. Each analytic_sr type Planetscope scene will come with a Usable Data Mask (udm), surface reflectance, and some metadata. Let's take a look at it in QGIS."
   ]
  },
  {
   "cell_type": "markdown",
   "metadata": {},
   "source": [
    "Our scene looks pretty good once we normalize the display in QGIS by the maximum and minimum of the scene. And with a false color composite, the riparian forest clearly pops out and individual tree crowns are nearly distinguishable. To examine the metadata, the simplest way is to load the json in a tabular format, with rows and columns like an excel spreadsheet. To do this we can use pandas, the python data analysis package.\n",
    "\n",
    "This comes with anaconda and if you don't have it, do `pip install pandas`"
   ]
  },
  {
   "cell_type": "code",
   "execution_count": 32,
   "metadata": {},
   "outputs": [
    {
     "data": {
      "text/html": [
       "<div>\n",
       "<style scoped>\n",
       "    .dataframe tbody tr th:only-of-type {\n",
       "        vertical-align: middle;\n",
       "    }\n",
       "\n",
       "    .dataframe tbody tr th {\n",
       "        vertical-align: top;\n",
       "    }\n",
       "\n",
       "    .dataframe thead th {\n",
       "        text-align: right;\n",
       "    }\n",
       "</style>\n",
       "<table border=\"1\" class=\"dataframe\">\n",
       "  <thead>\n",
       "    <tr style=\"text-align: right;\">\n",
       "      <th></th>\n",
       "      <th>id</th>\n",
       "      <th>properties</th>\n",
       "      <th>type</th>\n",
       "    </tr>\n",
       "  </thead>\n",
       "  <tbody>\n",
       "    <tr>\n",
       "      <th>acquired</th>\n",
       "      <td>20190606_164931_104b</td>\n",
       "      <td>2019-06-06T16:49:31.680516Z</td>\n",
       "      <td>Feature</td>\n",
       "    </tr>\n",
       "    <tr>\n",
       "      <th>anomalous_pixels</th>\n",
       "      <td>20190606_164931_104b</td>\n",
       "      <td>0</td>\n",
       "      <td>Feature</td>\n",
       "    </tr>\n",
       "    <tr>\n",
       "      <th>clear_confidence_percent</th>\n",
       "      <td>20190606_164931_104b</td>\n",
       "      <td>97</td>\n",
       "      <td>Feature</td>\n",
       "    </tr>\n",
       "    <tr>\n",
       "      <th>clear_percent</th>\n",
       "      <td>20190606_164931_104b</td>\n",
       "      <td>100</td>\n",
       "      <td>Feature</td>\n",
       "    </tr>\n",
       "    <tr>\n",
       "      <th>cloud_cover</th>\n",
       "      <td>20190606_164931_104b</td>\n",
       "      <td>0</td>\n",
       "      <td>Feature</td>\n",
       "    </tr>\n",
       "    <tr>\n",
       "      <th>cloud_percent</th>\n",
       "      <td>20190606_164931_104b</td>\n",
       "      <td>0</td>\n",
       "      <td>Feature</td>\n",
       "    </tr>\n",
       "    <tr>\n",
       "      <th>columns</th>\n",
       "      <td>20190606_164931_104b</td>\n",
       "      <td>8250</td>\n",
       "      <td>Feature</td>\n",
       "    </tr>\n",
       "    <tr>\n",
       "      <th>coordinates</th>\n",
       "      <td>20190606_164931_104b</td>\n",
       "      <td>NaN</td>\n",
       "      <td>Feature</td>\n",
       "    </tr>\n",
       "    <tr>\n",
       "      <th>epsg_code</th>\n",
       "      <td>20190606_164931_104b</td>\n",
       "      <td>32612</td>\n",
       "      <td>Feature</td>\n",
       "    </tr>\n",
       "    <tr>\n",
       "      <th>ground_control</th>\n",
       "      <td>20190606_164931_104b</td>\n",
       "      <td>True</td>\n",
       "      <td>Feature</td>\n",
       "    </tr>\n",
       "    <tr>\n",
       "      <th>gsd</th>\n",
       "      <td>20190606_164931_104b</td>\n",
       "      <td>3.6</td>\n",
       "      <td>Feature</td>\n",
       "    </tr>\n",
       "    <tr>\n",
       "      <th>heavy_haze_percent</th>\n",
       "      <td>20190606_164931_104b</td>\n",
       "      <td>0</td>\n",
       "      <td>Feature</td>\n",
       "    </tr>\n",
       "    <tr>\n",
       "      <th>instrument</th>\n",
       "      <td>20190606_164931_104b</td>\n",
       "      <td>PS2</td>\n",
       "      <td>Feature</td>\n",
       "    </tr>\n",
       "    <tr>\n",
       "      <th>item_type</th>\n",
       "      <td>20190606_164931_104b</td>\n",
       "      <td>PSScene4Band</td>\n",
       "      <td>Feature</td>\n",
       "    </tr>\n",
       "    <tr>\n",
       "      <th>light_haze_percent</th>\n",
       "      <td>20190606_164931_104b</td>\n",
       "      <td>0</td>\n",
       "      <td>Feature</td>\n",
       "    </tr>\n",
       "    <tr>\n",
       "      <th>origin_x</th>\n",
       "      <td>20190606_164931_104b</td>\n",
       "      <td>566751</td>\n",
       "      <td>Feature</td>\n",
       "    </tr>\n",
       "    <tr>\n",
       "      <th>origin_y</th>\n",
       "      <td>20190606_164931_104b</td>\n",
       "      <td>3509481</td>\n",
       "      <td>Feature</td>\n",
       "    </tr>\n",
       "    <tr>\n",
       "      <th>pixel_resolution</th>\n",
       "      <td>20190606_164931_104b</td>\n",
       "      <td>3</td>\n",
       "      <td>Feature</td>\n",
       "    </tr>\n",
       "    <tr>\n",
       "      <th>provider</th>\n",
       "      <td>20190606_164931_104b</td>\n",
       "      <td>planetscope</td>\n",
       "      <td>Feature</td>\n",
       "    </tr>\n",
       "    <tr>\n",
       "      <th>published</th>\n",
       "      <td>20190606_164931_104b</td>\n",
       "      <td>2019-06-06T20:25:09.445Z</td>\n",
       "      <td>Feature</td>\n",
       "    </tr>\n",
       "    <tr>\n",
       "      <th>quality_category</th>\n",
       "      <td>20190606_164931_104b</td>\n",
       "      <td>standard</td>\n",
       "      <td>Feature</td>\n",
       "    </tr>\n",
       "    <tr>\n",
       "      <th>rows</th>\n",
       "      <td>20190606_164931_104b</td>\n",
       "      <td>4092</td>\n",
       "      <td>Feature</td>\n",
       "    </tr>\n",
       "    <tr>\n",
       "      <th>satellite_id</th>\n",
       "      <td>20190606_164931_104b</td>\n",
       "      <td>104b</td>\n",
       "      <td>Feature</td>\n",
       "    </tr>\n",
       "    <tr>\n",
       "      <th>shadow_percent</th>\n",
       "      <td>20190606_164931_104b</td>\n",
       "      <td>0</td>\n",
       "      <td>Feature</td>\n",
       "    </tr>\n",
       "    <tr>\n",
       "      <th>snow_ice_percent</th>\n",
       "      <td>20190606_164931_104b</td>\n",
       "      <td>0</td>\n",
       "      <td>Feature</td>\n",
       "    </tr>\n",
       "    <tr>\n",
       "      <th>strip_id</th>\n",
       "      <td>20190606_164931_104b</td>\n",
       "      <td>2423031</td>\n",
       "      <td>Feature</td>\n",
       "    </tr>\n",
       "    <tr>\n",
       "      <th>sun_azimuth</th>\n",
       "      <td>20190606_164931_104b</td>\n",
       "      <td>95.5</td>\n",
       "      <td>Feature</td>\n",
       "    </tr>\n",
       "    <tr>\n",
       "      <th>sun_elevation</th>\n",
       "      <td>20190606_164931_104b</td>\n",
       "      <td>55.5</td>\n",
       "      <td>Feature</td>\n",
       "    </tr>\n",
       "    <tr>\n",
       "      <th>type</th>\n",
       "      <td>20190606_164931_104b</td>\n",
       "      <td>NaN</td>\n",
       "      <td>Feature</td>\n",
       "    </tr>\n",
       "    <tr>\n",
       "      <th>updated</th>\n",
       "      <td>20190606_164931_104b</td>\n",
       "      <td>2019-06-07T04:10:09.675Z</td>\n",
       "      <td>Feature</td>\n",
       "    </tr>\n",
       "    <tr>\n",
       "      <th>usable_data</th>\n",
       "      <td>20190606_164931_104b</td>\n",
       "      <td>0</td>\n",
       "      <td>Feature</td>\n",
       "    </tr>\n",
       "    <tr>\n",
       "      <th>view_angle</th>\n",
       "      <td>20190606_164931_104b</td>\n",
       "      <td>3</td>\n",
       "      <td>Feature</td>\n",
       "    </tr>\n",
       "    <tr>\n",
       "      <th>visible_confidence_percent</th>\n",
       "      <td>20190606_164931_104b</td>\n",
       "      <td>97</td>\n",
       "      <td>Feature</td>\n",
       "    </tr>\n",
       "    <tr>\n",
       "      <th>visible_percent</th>\n",
       "      <td>20190606_164931_104b</td>\n",
       "      <td>100</td>\n",
       "      <td>Feature</td>\n",
       "    </tr>\n",
       "  </tbody>\n",
       "</table>\n",
       "</div>"
      ],
      "text/plain": [
       "                                              id                   properties  \\\n",
       "acquired                    20190606_164931_104b  2019-06-06T16:49:31.680516Z   \n",
       "anomalous_pixels            20190606_164931_104b                            0   \n",
       "clear_confidence_percent    20190606_164931_104b                           97   \n",
       "clear_percent               20190606_164931_104b                          100   \n",
       "cloud_cover                 20190606_164931_104b                            0   \n",
       "cloud_percent               20190606_164931_104b                            0   \n",
       "columns                     20190606_164931_104b                         8250   \n",
       "coordinates                 20190606_164931_104b                          NaN   \n",
       "epsg_code                   20190606_164931_104b                        32612   \n",
       "ground_control              20190606_164931_104b                         True   \n",
       "gsd                         20190606_164931_104b                          3.6   \n",
       "heavy_haze_percent          20190606_164931_104b                            0   \n",
       "instrument                  20190606_164931_104b                          PS2   \n",
       "item_type                   20190606_164931_104b                 PSScene4Band   \n",
       "light_haze_percent          20190606_164931_104b                            0   \n",
       "origin_x                    20190606_164931_104b                       566751   \n",
       "origin_y                    20190606_164931_104b                      3509481   \n",
       "pixel_resolution            20190606_164931_104b                            3   \n",
       "provider                    20190606_164931_104b                  planetscope   \n",
       "published                   20190606_164931_104b     2019-06-06T20:25:09.445Z   \n",
       "quality_category            20190606_164931_104b                     standard   \n",
       "rows                        20190606_164931_104b                         4092   \n",
       "satellite_id                20190606_164931_104b                         104b   \n",
       "shadow_percent              20190606_164931_104b                            0   \n",
       "snow_ice_percent            20190606_164931_104b                            0   \n",
       "strip_id                    20190606_164931_104b                      2423031   \n",
       "sun_azimuth                 20190606_164931_104b                         95.5   \n",
       "sun_elevation               20190606_164931_104b                         55.5   \n",
       "type                        20190606_164931_104b                          NaN   \n",
       "updated                     20190606_164931_104b     2019-06-07T04:10:09.675Z   \n",
       "usable_data                 20190606_164931_104b                            0   \n",
       "view_angle                  20190606_164931_104b                            3   \n",
       "visible_confidence_percent  20190606_164931_104b                           97   \n",
       "visible_percent             20190606_164931_104b                          100   \n",
       "\n",
       "                               type  \n",
       "acquired                    Feature  \n",
       "anomalous_pixels            Feature  \n",
       "clear_confidence_percent    Feature  \n",
       "clear_percent               Feature  \n",
       "cloud_cover                 Feature  \n",
       "cloud_percent               Feature  \n",
       "columns                     Feature  \n",
       "coordinates                 Feature  \n",
       "epsg_code                   Feature  \n",
       "ground_control              Feature  \n",
       "gsd                         Feature  \n",
       "heavy_haze_percent          Feature  \n",
       "instrument                  Feature  \n",
       "item_type                   Feature  \n",
       "light_haze_percent          Feature  \n",
       "origin_x                    Feature  \n",
       "origin_y                    Feature  \n",
       "pixel_resolution            Feature  \n",
       "provider                    Feature  \n",
       "published                   Feature  \n",
       "quality_category            Feature  \n",
       "rows                        Feature  \n",
       "satellite_id                Feature  \n",
       "shadow_percent              Feature  \n",
       "snow_ice_percent            Feature  \n",
       "strip_id                    Feature  \n",
       "sun_azimuth                 Feature  \n",
       "sun_elevation               Feature  \n",
       "type                        Feature  \n",
       "updated                     Feature  \n",
       "usable_data                 Feature  \n",
       "view_angle                  Feature  \n",
       "visible_confidence_percent  Feature  \n",
       "visible_percent             Feature  "
      ]
     },
     "execution_count": 32,
     "metadata": {},
     "output_type": "execute_result"
    }
   ],
   "source": [
    "import pandas as pd\n",
    "pd.read_json(\"data/20190606_164931_104b_metadata.json\").drop(\"geometry\", axis=1)"
   ]
  },
  {
   "cell_type": "markdown",
   "metadata": {},
   "source": [
    "If you have questions about the metadata attributes,a good place to submit questions is the [Planet Community Forum](https://support.planet.com/hc/en-us/community/topics/). You can find more tutorials on working with Planet imagery, exploring the usable data mask, and more at the Developer Resource Center: https://developers.planet.com/planetschool/\n",
    "\n",
    "Keep in mind that some of the tutorials listed are newer than others. Anything referencing the Version 1 API is old, and it's best to use porder instead. If you'd like advice about which resources to check out next or have questions about how to use Planet in your research, talk to Ryan (ravery@ucsb.edu)."
   ]
  }
 ],
 "metadata": {
  "kernelspec": {
   "display_name": "Python [conda env:py2]",
   "language": "python",
   "name": "conda-env-py2-py"
  },
  "language_info": {
   "codemirror_mode": {
    "name": "ipython",
    "version": 2
   },
   "file_extension": ".py",
   "mimetype": "text/x-python",
   "name": "python",
   "nbconvert_exporter": "python",
   "pygments_lexer": "ipython2",
   "version": "2.7.15"
  }
 },
 "nbformat": 4,
 "nbformat_minor": 4
}
