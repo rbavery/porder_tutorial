{
 "cells": [
  {
   "cell_type": "markdown",
   "metadata": {},
   "source": [
    "# Tutorial Setup"
   ]
  },
  {
   "cell_type": "markdown",
   "metadata": {},
   "source": [
    "1. Install git following instructions for your operating system: https://carpentries.github.io/workshop-template/#git\n",
    "2. If you have python installed, follow these instructions to install `porder`: https://github.com/samapriya/porder#prerequisites\n",
    "    - If you don't have python installed, follow the instructions for your operating system: https://carpentries.github.io/workshop-template/#python\n",
    "    - most OS's come with python nowadays and you can use python 2 for this tutorial. If you don't have a package you can install it with `pip install package-name`. You can check if you have python by opening a terminal and running `python`\n",
    "3. Download this repository and notebook with the terminal command: `git clone https://github.com/rbavery/porder_tutorial.git`\n",
    "4. `cd porder_tutorial`\n",
    "5. `jupyter lab` or `jupyter notebook`. If you don't have jupyter installed, install it with `pip install jupyterlab`"
   ]
  },
  {
   "cell_type": "markdown",
   "metadata": {},
   "source": [
    "# First things first, what's this notebook thing?"
   ]
  },
  {
   "cell_type": "markdown",
   "metadata": {},
   "source": [
    "For this tutorial we will be running terminal commands from within a jupyter notebook. A jupyter notebook allows you to mix code and markdown (basically, text) wihtin a single document. As we step through and execute the commands, take notes in a seperate markdown cell (like this one!). After the tutorial, refer back to your notebook or the [porder documentation](https://github.com/samapriya/porder) in case you get stuck using porder. You can use porder through your native shell or the notebook, but we will use the notebook today so that all the commands you run are saved and you can refer to them later.\n",
    "\n",
    "You can turn a code cell into a markdown cell or vice-versa by using the menu bar above. Keyboard shortcuts for manipulating the jupyter notebook are listed in help, feel free to try these out as we go along. Typing \"M\" turns a cell to Markdown. \"Y\" turns it into a code cell"
   ]
  },
  {
   "cell_type": "markdown",
   "metadata": {},
   "source": [
    "### Change the code cell below to a Markdown cell. What happened?"
   ]
  },
  {
   "cell_type": "code",
   "execution_count": null,
   "metadata": {},
   "outputs": [],
   "source": []
  },
  {
   "cell_type": "markdown",
   "metadata": {},
   "source": [
    "Before continuing through the notebook, make sure you have installed porder. If you had to install `porder` in a [conda environment](https://docs.conda.io/projects/conda/en/latest/user-guide/concepts/environments.html) then make sure you have also installed `ipykernel` in that environment. If any of this is confusing or you need help getting porder installed and usable in your notebook, get in touch with Ryan (ravery@ucsb.edu)"
   ]
  },
  {
   "cell_type": "markdown",
   "metadata": {},
   "source": [
    "! makes the cell execute bash code instead of python code. Here we list out the files and folders in out current working directory (cwd). The cwd is the same as the directory where we started the jupyter notebook"
   ]
  },
  {
   "cell_type": "code",
   "execution_count": 1,
   "metadata": {},
   "outputs": [
    {
     "name": "stdout",
     "output_type": "stream",
     "text": [
      "data/\t\t planet_tutorial.qgz\tsan_pedro.geojson\n",
      "environment.yml  porder_tutorial.ipynb\tsan_pedro_section.geojson\n",
      "map.geojson\t README.md\n"
     ]
    }
   ],
   "source": [
    "!ls -F"
   ]
  },
  {
   "cell_type": "markdown",
   "metadata": {},
   "source": []
  },
  {
   "cell_type": "markdown",
   "metadata": {},
   "source": [
    "All terminal programs available in your native shell are available through the notebook, including porder."
   ]
  },
  {
   "cell_type": "code",
   "execution_count": 2,
   "metadata": {},
   "outputs": [
    {
     "name": "stdout",
     "output_type": "stream",
     "text": [
      "usage: porder [-h]\n",
      "              {version,quota,shp2geojson,base64,simplify,idlist,difflist,idsplit,idcheck,bundles,order,ordersize,ostate,stats,download,multipart,multiproc}\n",
      "              ...\n",
      "\n",
      "Ordersv2 Simple Client\n",
      "\n",
      "positional arguments:\n",
      "  {version,quota,shp2geojson,base64,simplify,idlist,difflist,idsplit,idcheck,bundles,order,ordersize,ostate,stats,download,multipart,multiproc}\n",
      "    version             Prints porder version and exists\n",
      "    quota               Prints your Planet Quota Details\n",
      "    shp2geojson         Convert all shapefiles in folder to GeoJSON\n",
      "    base64              Base 64 encode a JSON file\n",
      "    simplify            Simplifies geometry to number of vertices specified\n",
      "                        using Visvalingam-Wyatt line simplification algorithm\n",
      "    idlist              Get idlist using geometry & filters\n",
      "    difflist            Checks the difference between local files and\n",
      "                        available Planet assets\n",
      "    idsplit             Splits ID list incase you want to run them in small\n",
      "                        batches\n",
      "    idcheck             Check idlist for estimating clipped area\n",
      "    bundles             Check bundles of assets for given tiem type\n",
      "    order               Place an order & get order url currently supports\n",
      "                        \"toar\",\"clip\",\"composite\",\"reproject\",\"compression\"\n",
      "    ordersize           Estimate total download size\n",
      "    ostate              Get list of orders by state and date range\n",
      "    stats               Prints number of orders queued and running for org &\n",
      "                        user\n",
      "    download            Downloads all files in your order\n",
      "    multipart           Uses multiprocessing to download for all files in your\n",
      "                        order\n",
      "    multiproc           Multiprocess based downloader to download for all\n",
      "                        files in your order\n",
      "\n",
      "optional arguments:\n",
      "  -h, --help            show this help message and exit\n"
     ]
    }
   ],
   "source": [
    "!porder -h"
   ]
  },
  {
   "cell_type": "markdown",
   "metadata": {},
   "source": []
  },
  {
   "cell_type": "markdown",
   "metadata": {},
   "source": [
    "Before using any of these porder commands, you'll need to authenticate using the `planet init` command. This is one spot where we can't use the notebook. Click the + sign in the upper left that represents \"New Launcher\". Launch a Terminal from that window that opens up when you click the +. Then run `planet init` in the Terminal. You will need your email and password for your Planet Account (If you don't have this, email Ryan at ravery@ucsb.edu, you'll need to be added as a departmental user)."
   ]
  },
  {
   "cell_type": "markdown",
   "metadata": {},
   "source": []
  },
  {
   "cell_type": "markdown",
   "metadata": {},
   "source": [
    "There are a lot of commands available, but the ones I've used most often include:\n",
    "\n",
    "1. `porder idlist` to search for planet imagery in an area of interest and create the list of ids used to order imagery\n",
    "2. `porder order` to place the order\n",
    "3. `porder multiproc` to download the order\n",
    "\n",
    "We will run these 3 commands to order some 4-band 3.5 meter Planetscope imagery over the [San Pedro Riparian National Conservation Area](https://visit.sierravistaaz.gov/see-do/nature-science/san-pedro-riparian-national-conservation-area/)\n",
    "\n",
    "If you would like to work with a different area for this tutorial, you can quickly draw a bounding box and downloa din geojson format using this tool: http://geojson.io/#map=2/20.0/0.0"
   ]
  },
  {
   "cell_type": "markdown",
   "metadata": {},
   "source": [
    "To get help for a particular command, run that command with the `-h` flag"
   ]
  },
  {
   "cell_type": "code",
   "execution_count": 1,
   "metadata": {},
   "outputs": [
    {
     "name": "stdout",
     "output_type": "stream",
     "text": [
      "usage: porder idlist [-h] --input INPUT --start START --end END --item ITEM\n",
      "                     [--asset ASSET] --outfile OUTFILE [--cmin CMIN]\n",
      "                     [--cmax CMAX] [--number NUMBER] [--overlap OVERLAP]\n",
      "                     [--filters FILTERS [FILTERS ...]]\n",
      "\n",
      "optional arguments:\n",
      "  -h, --help            show this help message and exit\n",
      "\n",
      "Required named arguments.:\n",
      "  --input INPUT         Input geometry file for now geojson/json/kml\n",
      "  --start START         Start date in format YYYY-MM-DD\n",
      "  --end END             End date in format YYYY-MM-DD\n",
      "  --item ITEM           Item Type PSScene4Band|PSOrthoTile|REOrthoTile etc\n",
      "  --asset ASSET         Asset Type analytic, analytic_sr,visual etc\n",
      "  --outfile OUTFILE     Output csv file\n",
      "\n",
      "Optional named arguments:\n",
      "  --cmin CMIN           Minimum cloud cover 0-1 represents 0 to 100\n",
      "  --cmax CMAX           Maximum cloud cover 0-1 represents 0 to 100\n",
      "  --number NUMBER       Total number of assets, give a large number if you are\n",
      "                        not sure\n",
      "  --overlap OVERLAP     Percentage overlap of image with search area range\n",
      "                        between 0 to 100\n",
      "  --filters FILTERS [FILTERS ...]\n",
      "                        Add an additional string or range filter, Read Me\n"
     ]
    }
   ],
   "source": [
    "!porder idlist -h"
   ]
  },
  {
   "cell_type": "markdown",
   "metadata": {},
   "source": [
    "We will order a scene with 100% overlap in our study area, less than 5% cloud cover, and limit the number of assets returned to 1 for demonstration. Two of the more common mistakes is to not wrap arguments in quotes \"\" and using relative paths instead of absolute paths for the `--outfile` and  `--input` geojson. As you can see, a single order can have lots of flags and turn out to be very long, so make sure refer back to this notebook or the porder github page if you get stuck typing one of these out."
   ]
  },
  {
   "cell_type": "code",
   "execution_count": 6,
   "metadata": {},
   "outputs": [
    {
     "name": "stdout",
     "output_type": "stream",
     "text": [
      "\n",
      "Running search for a maximum of: 1 assets\n",
      "Total number of assets written to /home/rave/planet_tutorial/data/idlist.csv ===> 1\n",
      "Total estimated cost to quota: 181 sqkm\n",
      "Total estimated cost to quota if clipped: 181 sqkm\n"
     ]
    }
   ],
   "source": [
    "!porder idlist --input \"/home/rave/planet_tutorial/san_pedro_section.geojson\" --start \"2019-06-01\" --end \"2019-06-08\" --item \"PSScene4Band\" --asset \"analytic_sr\" --outfile \"/home/rave/planet_tutorial/data/idlist.csv\" --cmax \".05\" --number \"1\" --overlap \"100\""
   ]
  },
  {
   "cell_type": "code",
   "execution_count": 7,
   "metadata": {},
   "outputs": [
    {
     "name": "stdout",
     "output_type": "stream",
     "text": [
      "usage: porder order [-h] --name NAME --idlist IDLIST --item ITEM --bundle\n",
      "                    BUNDLE [--sid SID] [--boundary BOUNDARY]\n",
      "                    [--projection PROJECTION] [--kernel KERNEL]\n",
      "                    [--compression COMPRESSION] [--aws AWS] [--azure AZURE]\n",
      "                    [--gcs GCS] [--op OP [OP ...]]\n",
      "\n",
      "optional arguments:\n",
      "  -h, --help            show this help message and exit\n",
      "\n",
      "Required named arguments.:\n",
      "  --name NAME           Order Name to be Submitted\n",
      "  --idlist IDLIST       CSV idlist with item IDs\n",
      "  --item ITEM           Item Type PSScene4Band|PSOrthoTile|REOrthoTile etc\n",
      "  --bundle BUNDLE       Bundle Type: analytic, analytic_sr,analytic_sr_udm2\n",
      "\n",
      "Optional named arguments:\n",
      "  --sid SID             Subscription ID\n",
      "  --boundary BOUNDARY   Boundary/geometry for clip operation geojson|json|kml\n",
      "  --projection PROJECTION\n",
      "                        Projection for reproject operation of type \"EPSG:4326\"\n",
      "  --kernel KERNEL       Resampling kernel used \"near\", \"bilinear\", \"cubic\",\n",
      "                        \"cubicspline\", \"lanczos\", \"average\" and \"mode\"\n",
      "  --compression COMPRESSION\n",
      "                        Compression type used for tiff_optimize tool,\n",
      "                        \"lzw\"|\"deflate\"\n",
      "  --aws AWS             AWS cloud credentials config yml file\n",
      "  --azure AZURE         Azure cloud credentials config yml file\n",
      "  --gcs GCS             GCS cloud credentials config yml file\n",
      "  --op OP [OP ...]      Add operations, delivery & notification clip|toar|harm\n",
      "                        onize|composite|zip|zipall|compression|projection|kern\n",
      "                        el|aws|azure|gcs|email <Choose indices from>:\n",
      "                        ndvi|gndvi|bndvi|ndwi|tvi|osavi|evi2|msavi2|sr\n"
     ]
    }
   ],
   "source": [
    "!porder order -h"
   ]
  },
  {
   "cell_type": "markdown",
   "metadata": {},
   "source": [
    "Below we submit the idlist.csv with the order command. Make sure to copy the url that is returned as we will use that in the download step. It should take about 5 minutes for the order to complete. We select the `analytic_sr_udm2` bundle, which comes with surface reflectance, metadata, and two versions of Planet's Usable Data Mask. There are many operations supported besides `email`, making this one of the more powerful commands for controlling the extent, quality, and kind of data you get back from Planet, so [check out the order documentation for more details](https://github.com/samapriya/porder#order)"
   ]
  },
  {
   "cell_type": "code",
   "execution_count": 8,
   "metadata": {},
   "outputs": [
    {
     "name": "stdout",
     "output_type": "stream",
     "text": [
      "Order created at https://api.planet.com/compute/ops/orders/v2/61c5e0a6-896c-4bca-9724-dabaa43e1c73 and url copied to clipboard\n"
     ]
    }
   ],
   "source": [
    "!porder order --name \"San Pedro Test\" --idlist \"/home/rave/planet_tutorial/data/idlist.csv\" --item \"PSScene4Band\" --bundle \"analytic_sr_udm2\" --op email"
   ]
  },
  {
   "cell_type": "markdown",
   "metadata": {},
   "source": [
    "You should receive an email when your order is complete, but you can also check on the status of your order with the following command. Initially it will show that an order is running for for user, when it is ready to download, it will show 0 running orders for user."
   ]
  },
  {
   "cell_type": "code",
   "execution_count": 10,
   "metadata": {},
   "outputs": [
    {
     "name": "stdout",
     "output_type": "stream",
     "text": [
      "Checking on all running orders...\n",
      "\n",
      "Total queued order for organization: 0\n",
      "Total running orders for organization: 1\n",
      "\n",
      "Total queued orders for user: 0\n",
      "Total running orders for user: 0\n"
     ]
    }
   ],
   "source": [
    "!porder stats"
   ]
  },
  {
   "cell_type": "markdown",
   "metadata": {},
   "source": [
    "Once the order is complete, we can download it. This should go quick."
   ]
  },
  {
   "cell_type": "code",
   "execution_count": 23,
   "metadata": {},
   "outputs": [
    {
     "name": "stdout",
     "output_type": "stream",
     "text": [
      "usage: porder multiproc [-h] [--url URL] [--local LOCAL] [--ext EXT]\n",
      "\n",
      "optional arguments:\n",
      "  -h, --help     show this help message and exit\n",
      "  --url URL      order url you got for your order\n",
      "  --local LOCAL  Output folder where ordered files will be exported\n",
      "\n",
      "Optional named arguments:\n",
      "  --ext EXT      File Extension to download\n"
     ]
    }
   ],
   "source": [
    "!porder multiproc -h"
   ]
  },
  {
   "cell_type": "code",
   "execution_count": 11,
   "metadata": {},
   "outputs": [
    {
     "name": "stdout",
     "output_type": "stream",
     "text": [
      "Polling with exponential backoff..\n",
      "Order completed with status: success\n",
      "Processing a url list with 0 items\n",
      "\n",
      "\n",
      "File                                                                                                 Completed at        \n"
     ]
    }
   ],
   "source": [
    "!porder multiproc --url \"https://api.planet.com/compute/ops/orders/v2/6fa59a43-360b-4da7-9dc5-b9581fa2e3ad\" --local \"/home/rave/planet_tutorial/data/\""
   ]
  },
  {
   "cell_type": "markdown",
   "metadata": {},
   "source": [
    "Sweet! We have imagery. Each analytic_sr type Planetscope scene will come with a Usable Data Mask (udm), surface reflectance, and some metadata. Let's plot the image we downloaded with python! We will use xarray to load in the image data and plot it. rioxarray is an extension that preserve sgeospatial metadata and brings functionaility for geospatial operations like reprojecting. Both packages can be installed with `pip` or with `conda` from the conda-forge channel."
   ]
  },
  {
   "cell_type": "code",
   "execution_count": 1,
   "metadata": {},
   "outputs": [
    {
     "data": {
      "text/plain": [
       "<xarray.core.options.set_options at 0x7f42b4027ba8>"
      ]
     },
     "execution_count": 1,
     "metadata": {},
     "output_type": "execute_result"
    }
   ],
   "source": [
    "import xarray as xa\n",
    "import rioxarray\n",
    "%matplotlib inline\n",
    "xa.set_options(display_style = \"html\")"
   ]
  },
  {
   "cell_type": "code",
   "execution_count": 2,
   "metadata": {},
   "outputs": [
    {
     "data": {
      "text/html": [
       "<div><svg style=\"position: absolute; width: 0; height: 0; overflow: hidden\">\n",
       "<defs>\n",
       "<symbol id=\"icon-database\" viewBox=\"0 0 32 32\">\n",
       "<title>Show/Hide data repr</title>\n",
       "<path d=\"M16 0c-8.837 0-16 2.239-16 5v4c0 2.761 7.163 5 16 5s16-2.239 16-5v-4c0-2.761-7.163-5-16-5z\"></path>\n",
       "<path d=\"M16 17c-8.837 0-16-2.239-16-5v6c0 2.761 7.163 5 16 5s16-2.239 16-5v-6c0 2.761-7.163 5-16 5z\"></path>\n",
       "<path d=\"M16 26c-8.837 0-16-2.239-16-5v6c0 2.761 7.163 5 16 5s16-2.239 16-5v-6c0 2.761-7.163 5-16 5z\"></path>\n",
       "</symbol>\n",
       "<symbol id=\"icon-file-text2\" viewBox=\"0 0 32 32\">\n",
       "<title>Show/Hide attributes</title>\n",
       "<path d=\"M28.681 7.159c-0.694-0.947-1.662-2.053-2.724-3.116s-2.169-2.030-3.116-2.724c-1.612-1.182-2.393-1.319-2.841-1.319h-15.5c-1.378 0-2.5 1.121-2.5 2.5v27c0 1.378 1.122 2.5 2.5 2.5h23c1.378 0 2.5-1.122 2.5-2.5v-19.5c0-0.448-0.137-1.23-1.319-2.841zM24.543 5.457c0.959 0.959 1.712 1.825 2.268 2.543h-4.811v-4.811c0.718 0.556 1.584 1.309 2.543 2.268zM28 29.5c0 0.271-0.229 0.5-0.5 0.5h-23c-0.271 0-0.5-0.229-0.5-0.5v-27c0-0.271 0.229-0.5 0.5-0.5 0 0 15.499-0 15.5 0v7c0 0.552 0.448 1 1 1h7v19.5z\"></path>\n",
       "<path d=\"M23 26h-14c-0.552 0-1-0.448-1-1s0.448-1 1-1h14c0.552 0 1 0.448 1 1s-0.448 1-1 1z\"></path>\n",
       "<path d=\"M23 22h-14c-0.552 0-1-0.448-1-1s0.448-1 1-1h14c0.552 0 1 0.448 1 1s-0.448 1-1 1z\"></path>\n",
       "<path d=\"M23 18h-14c-0.552 0-1-0.448-1-1s0.448-1 1-1h14c0.552 0 1 0.448 1 1s-0.448 1-1 1z\"></path>\n",
       "</symbol>\n",
       "</defs>\n",
       "</svg>\n",
       "<style>/* CSS stylesheet for displaying xarray objects in jupyterlab.\n",
       " *\n",
       " */\n",
       "\n",
       ":root {\n",
       "  --xr-font-color0: var(--jp-content-font-color0, rgba(0, 0, 0, 1));\n",
       "  --xr-font-color2: var(--jp-content-font-color2, rgba(0, 0, 0, 0.54));\n",
       "  --xr-font-color3: var(--jp-content-font-color3, rgba(0, 0, 0, 0.38));\n",
       "  --xr-border-color: var(--jp-border-color2, #e0e0e0);\n",
       "  --xr-disabled-color: var(--jp-layout-color3, #bdbdbd);\n",
       "  --xr-background-color: var(--jp-layout-color0, white);\n",
       "  --xr-background-color-row-even: var(--jp-layout-color1, white);\n",
       "  --xr-background-color-row-odd: var(--jp-layout-color2, #eeeeee);\n",
       "}\n",
       "\n",
       ".xr-wrap {\n",
       "  min-width: 300px;\n",
       "  max-width: 700px;\n",
       "}\n",
       "\n",
       ".xr-header {\n",
       "  padding-top: 6px;\n",
       "  padding-bottom: 6px;\n",
       "  margin-bottom: 4px;\n",
       "  border-bottom: solid 1px var(--xr-border-color);\n",
       "}\n",
       "\n",
       ".xr-header > div,\n",
       ".xr-header > ul {\n",
       "  display: inline;\n",
       "  margin-top: 0;\n",
       "  margin-bottom: 0;\n",
       "}\n",
       "\n",
       ".xr-obj-type,\n",
       ".xr-array-name {\n",
       "  margin-left: 2px;\n",
       "  margin-right: 10px;\n",
       "}\n",
       "\n",
       ".xr-obj-type {\n",
       "  color: var(--xr-font-color2);\n",
       "}\n",
       "\n",
       ".xr-sections {\n",
       "  padding-left: 0 !important;\n",
       "  display: grid;\n",
       "  grid-template-columns: 150px auto auto 1fr 20px 20px;\n",
       "}\n",
       "\n",
       ".xr-section-item {\n",
       "  display: contents;\n",
       "}\n",
       "\n",
       ".xr-section-item input {\n",
       "  display: none;\n",
       "}\n",
       "\n",
       ".xr-section-item input + label {\n",
       "  color: var(--xr-disabled-color);\n",
       "}\n",
       "\n",
       ".xr-section-item input:enabled + label {\n",
       "  cursor: pointer;\n",
       "  color: var(--xr-font-color2);\n",
       "}\n",
       "\n",
       ".xr-section-item input:enabled + label:hover {\n",
       "  color: var(--xr-font-color0);\n",
       "}\n",
       "\n",
       ".xr-section-summary {\n",
       "  grid-column: 1;\n",
       "  color: var(--xr-font-color2);\n",
       "  font-weight: 500;\n",
       "}\n",
       "\n",
       ".xr-section-summary > span {\n",
       "  display: inline-block;\n",
       "  padding-left: 0.5em;\n",
       "}\n",
       "\n",
       ".xr-section-summary-in:disabled + label {\n",
       "  color: var(--xr-font-color2);\n",
       "}\n",
       "\n",
       ".xr-section-summary-in + label:before {\n",
       "  display: inline-block;\n",
       "  content: '►';\n",
       "  font-size: 11px;\n",
       "  width: 15px;\n",
       "  text-align: center;\n",
       "}\n",
       "\n",
       ".xr-section-summary-in:disabled + label:before {\n",
       "  color: var(--xr-disabled-color);\n",
       "}\n",
       "\n",
       ".xr-section-summary-in:checked + label:before {\n",
       "  content: '▼';\n",
       "}\n",
       "\n",
       ".xr-section-summary-in:checked + label > span {\n",
       "  display: none;\n",
       "}\n",
       "\n",
       ".xr-section-summary,\n",
       ".xr-section-inline-details {\n",
       "  padding-top: 4px;\n",
       "  padding-bottom: 4px;\n",
       "}\n",
       "\n",
       ".xr-section-inline-details {\n",
       "  grid-column: 2 / -1;\n",
       "}\n",
       "\n",
       ".xr-section-details {\n",
       "  display: none;\n",
       "  grid-column: 1 / -1;\n",
       "  margin-bottom: 5px;\n",
       "}\n",
       "\n",
       ".xr-section-summary-in:checked ~ .xr-section-details {\n",
       "  display: contents;\n",
       "}\n",
       "\n",
       ".xr-array-wrap {\n",
       "  grid-column: 1 / -1;\n",
       "  display: grid;\n",
       "  grid-template-columns: 20px auto;\n",
       "}\n",
       "\n",
       ".xr-array-wrap > label {\n",
       "  grid-column: 1;\n",
       "  vertical-align: top;\n",
       "}\n",
       "\n",
       ".xr-preview {\n",
       "  color: var(--xr-font-color3);\n",
       "}\n",
       "\n",
       ".xr-array-preview,\n",
       ".xr-array-data {\n",
       "  padding: 0 5px !important;\n",
       "  grid-column: 2;\n",
       "}\n",
       "\n",
       ".xr-array-data,\n",
       ".xr-array-in:checked ~ .xr-array-preview {\n",
       "  display: none;\n",
       "}\n",
       "\n",
       ".xr-array-in:checked ~ .xr-array-data,\n",
       ".xr-array-preview {\n",
       "  display: inline-block;\n",
       "}\n",
       "\n",
       ".xr-dim-list {\n",
       "  display: inline-block !important;\n",
       "  list-style: none;\n",
       "  padding: 0 !important;\n",
       "  margin: 0;\n",
       "}\n",
       "\n",
       ".xr-dim-list li {\n",
       "  display: inline-block;\n",
       "  padding: 0;\n",
       "  margin: 0;\n",
       "}\n",
       "\n",
       ".xr-dim-list:before {\n",
       "  content: '(';\n",
       "}\n",
       "\n",
       ".xr-dim-list:after {\n",
       "  content: ')';\n",
       "}\n",
       "\n",
       ".xr-dim-list li:not(:last-child):after {\n",
       "  content: ',';\n",
       "  padding-right: 5px;\n",
       "}\n",
       "\n",
       ".xr-has-index {\n",
       "  font-weight: bold;\n",
       "}\n",
       "\n",
       ".xr-var-list,\n",
       ".xr-var-item {\n",
       "  display: contents;\n",
       "}\n",
       "\n",
       ".xr-var-item > div,\n",
       ".xr-var-item label,\n",
       ".xr-var-item > .xr-var-name span {\n",
       "  background-color: var(--xr-background-color-row-even);\n",
       "  margin-bottom: 0;\n",
       "}\n",
       "\n",
       ".xr-var-item > .xr-var-name:hover span {\n",
       "  padding-right: 5px;\n",
       "}\n",
       "\n",
       ".xr-var-list > li:nth-child(odd) > div,\n",
       ".xr-var-list > li:nth-child(odd) > label,\n",
       ".xr-var-list > li:nth-child(odd) > .xr-var-name span {\n",
       "  background-color: var(--xr-background-color-row-odd);\n",
       "}\n",
       "\n",
       ".xr-var-name {\n",
       "  grid-column: 1;\n",
       "}\n",
       "\n",
       ".xr-var-dims {\n",
       "  grid-column: 2;\n",
       "}\n",
       "\n",
       ".xr-var-dtype {\n",
       "  grid-column: 3;\n",
       "  text-align: right;\n",
       "  color: var(--xr-font-color2);\n",
       "}\n",
       "\n",
       ".xr-var-preview {\n",
       "  grid-column: 4;\n",
       "}\n",
       "\n",
       ".xr-var-name,\n",
       ".xr-var-dims,\n",
       ".xr-var-dtype,\n",
       ".xr-preview,\n",
       ".xr-attrs dt {\n",
       "  white-space: nowrap;\n",
       "  overflow: hidden;\n",
       "  text-overflow: ellipsis;\n",
       "  padding-right: 10px;\n",
       "}\n",
       "\n",
       ".xr-var-name:hover,\n",
       ".xr-var-dims:hover,\n",
       ".xr-var-dtype:hover,\n",
       ".xr-attrs dt:hover {\n",
       "  overflow: visible;\n",
       "  width: auto;\n",
       "  z-index: 1;\n",
       "}\n",
       "\n",
       ".xr-var-attrs,\n",
       ".xr-var-data {\n",
       "  display: none;\n",
       "  background-color: var(--xr-background-color) !important;\n",
       "  padding-bottom: 5px !important;\n",
       "}\n",
       "\n",
       ".xr-var-attrs-in:checked ~ .xr-var-attrs,\n",
       ".xr-var-data-in:checked ~ .xr-var-data {\n",
       "  display: block;\n",
       "}\n",
       "\n",
       ".xr-var-data > table {\n",
       "  float: right;\n",
       "}\n",
       "\n",
       ".xr-var-name span,\n",
       ".xr-var-data,\n",
       ".xr-attrs {\n",
       "  padding-left: 25px !important;\n",
       "}\n",
       "\n",
       ".xr-attrs,\n",
       ".xr-var-attrs,\n",
       ".xr-var-data {\n",
       "  grid-column: 1 / -1;\n",
       "}\n",
       "\n",
       "dl.xr-attrs {\n",
       "  padding: 0;\n",
       "  margin: 0;\n",
       "  display: grid;\n",
       "  grid-template-columns: 125px auto;\n",
       "}\n",
       "\n",
       ".xr-attrs dt, dd {\n",
       "  padding: 0;\n",
       "  margin: 0;\n",
       "  float: left;\n",
       "  padding-right: 10px;\n",
       "  width: auto;\n",
       "}\n",
       "\n",
       ".xr-attrs dt {\n",
       "  font-weight: normal;\n",
       "  grid-column: 1;\n",
       "}\n",
       "\n",
       ".xr-attrs dt:hover span {\n",
       "  display: inline-block;\n",
       "  background: var(--xr-background-color);\n",
       "  padding-right: 10px;\n",
       "}\n",
       "\n",
       ".xr-attrs dd {\n",
       "  grid-column: 2;\n",
       "  white-space: pre-wrap;\n",
       "  word-break: break-all;\n",
       "}\n",
       "\n",
       ".xr-icon-database,\n",
       ".xr-icon-file-text2 {\n",
       "  display: inline-block;\n",
       "  vertical-align: middle;\n",
       "  width: 1em;\n",
       "  height: 1.5em !important;\n",
       "  stroke-width: 0;\n",
       "  stroke: currentColor;\n",
       "  fill: currentColor;\n",
       "}\n",
       "</style><div class='xr-wrap'><div class='xr-header'><div class='xr-obj-type'>xarray.DataArray</div><div class='xr-array-name'></div><ul class='xr-dim-list'><li><span class='xr-has-index'>band</span>: 4</li><li><span class='xr-has-index'>y</span>: 4091</li><li><span class='xr-has-index'>x</span>: 8251</li></ul></div><ul class='xr-sections'><li class='xr-section-item'><div class='xr-array-wrap'><input id='section-7ca2060a-e7d2-4a7d-a5e8-2c38dc9c0945' class='xr-array-in' type='checkbox' ><label for='section-7ca2060a-e7d2-4a7d-a5e8-2c38dc9c0945' title='Show/hide data repr'><svg class='icon xr-icon-database'><use xlink:href='#icon-database'></use></svg></label><div class='xr-array-preview xr-preview'><span>...</span></div><pre class='xr-array-data'>[135019364 values with dtype=uint16]</pre></div></li><li class='xr-section-item'><input id='section-d78714fe-f5b7-4c98-8926-0629c4be88d5' class='xr-section-summary-in' type='checkbox'  checked><label for='section-d78714fe-f5b7-4c98-8926-0629c4be88d5' class='xr-section-summary' >Coordinates: <span>(3)</span></label><div class='xr-section-inline-details'></div><div class='xr-section-details'><ul class='xr-var-list'><li class='xr-var-item'><div class='xr-var-name'><span class='xr-has-index'>band</span></div><div class='xr-var-dims'>(band)</div><div class='xr-var-dtype'>int64</div><div class='xr-var-preview xr-preview'>1 2 3 4</div><input id='attrs-b29b368f-55e1-4d87-a57f-3e544c5399a7' class='xr-var-attrs-in' type='checkbox' disabled><label for='attrs-b29b368f-55e1-4d87-a57f-3e544c5399a7' title='Show/Hide attributes'><svg class='icon xr-icon-file-text2'><use xlink:href='#icon-file-text2'></use></svg></label><input id='data-b126caac-23a5-4fa4-a957-7d14e7a8660d' class='xr-var-data-in' type='checkbox'><label for='data-b126caac-23a5-4fa4-a957-7d14e7a8660d' title='Show/Hide data repr'><svg class='icon xr-icon-database'><use xlink:href='#icon-database'></use></svg></label><div class='xr-var-attrs'><dl class='xr-attrs'></dl></div><pre class='xr-var-data'>array([1, 2, 3, 4])</pre></li><li class='xr-var-item'><div class='xr-var-name'><span class='xr-has-index'>y</span></div><div class='xr-var-dims'>(y)</div><div class='xr-var-dtype'>float64</div><div class='xr-var-preview xr-preview'>3.509e+06 3.509e+06 ... 3.497e+06</div><input id='attrs-39ed5fcd-09aa-4463-8782-c69e53d7f300' class='xr-var-attrs-in' type='checkbox' disabled><label for='attrs-39ed5fcd-09aa-4463-8782-c69e53d7f300' title='Show/Hide attributes'><svg class='icon xr-icon-file-text2'><use xlink:href='#icon-file-text2'></use></svg></label><input id='data-d9af8802-cc64-4e1e-b6cf-d6b8c542019c' class='xr-var-data-in' type='checkbox'><label for='data-d9af8802-cc64-4e1e-b6cf-d6b8c542019c' title='Show/Hide data repr'><svg class='icon xr-icon-database'><use xlink:href='#icon-database'></use></svg></label><div class='xr-var-attrs'><dl class='xr-attrs'></dl></div><pre class='xr-var-data'>array([3509479.5, 3509476.5, 3509473.5, ..., 3497215.5, 3497212.5, 3497209.5])</pre></li><li class='xr-var-item'><div class='xr-var-name'><span class='xr-has-index'>x</span></div><div class='xr-var-dims'>(x)</div><div class='xr-var-dtype'>float64</div><div class='xr-var-preview xr-preview'>5.668e+05 5.668e+05 ... 5.915e+05</div><input id='attrs-f64b530d-5aa6-4b5e-8240-0b84f436e312' class='xr-var-attrs-in' type='checkbox' disabled><label for='attrs-f64b530d-5aa6-4b5e-8240-0b84f436e312' title='Show/Hide attributes'><svg class='icon xr-icon-file-text2'><use xlink:href='#icon-file-text2'></use></svg></label><input id='data-ecc9440d-1204-46cc-a7b0-20a05427243b' class='xr-var-data-in' type='checkbox'><label for='data-ecc9440d-1204-46cc-a7b0-20a05427243b' title='Show/Hide data repr'><svg class='icon xr-icon-database'><use xlink:href='#icon-database'></use></svg></label><div class='xr-var-attrs'><dl class='xr-attrs'></dl></div><pre class='xr-var-data'>array([566752.5, 566755.5, 566758.5, ..., 591496.5, 591499.5, 591502.5])</pre></li></ul></div></li><li class='xr-section-item'><input id='section-96d69eee-adb1-4487-b3ad-60d604cf04c6' class='xr-section-summary-in' type='checkbox'  ><label for='section-96d69eee-adb1-4487-b3ad-60d604cf04c6' class='xr-section-summary' >Attributes: <span>(11)</span></label><div class='xr-section-inline-details'></div><div class='xr-section-details'><dl class='xr-attrs'><dt><span>transform :</span></dt><dd>(3.0, 0.0, 566751.0, 0.0, -3.0, 3509481.0)</dd><dt><span>crs :</span></dt><dd>+init=epsg:32612</dd><dt><span>res :</span></dt><dd>(3.0, 3.0)</dd><dt><span>is_tiled :</span></dt><dd>1</dd><dt><span>nodatavals :</span></dt><dd>(0.0, 0.0, 0.0, 0.0)</dd><dt><span>scales :</span></dt><dd>(1.0, 1.0, 1.0, 1.0)</dd><dt><span>offsets :</span></dt><dd>(0.0, 0.0, 0.0, 0.0)</dd><dt><span>descriptions :</span></dt><dd>(&#x27;blue&#x27;, &#x27;green&#x27;, &#x27;red&#x27;, &#x27;nir&#x27;)</dd><dt><span>AREA_OR_POINT :</span></dt><dd>Area</dd><dt><span>TIFFTAG_DATETIME :</span></dt><dd>2019:06:06 16:49:31</dd><dt><span>TIFFTAG_IMAGEDESCRIPTION :</span></dt><dd>{&quot;atmospheric_correction&quot;: {&quot;aerosol_model&quot;: &quot;continental&quot;, &quot;aot_coverage&quot;: 0.72, &quot;aot_mean_quality&quot;: 1, &quot;aot_method&quot;: &quot;fixed&quot;, &quot;aot_source&quot;: &quot;mod09cma&quot;, &quot;aot_status&quot;: &quot;Data Found&quot;, &quot;aot_std&quot;: 0.0939, &quot;aot_used&quot;: 0.216, &quot;atmospheric_correction_algorithm&quot;: &quot;6Sv2.1&quot;, &quot;atmospheric_model&quot;: &quot;water_vapor_and_ozone&quot;, &quot;luts_version&quot;: 3, &quot;ozone_coverage&quot;: 0.72, &quot;ozone_mean_quality&quot;: 260, &quot;ozone_method&quot;: &quot;fixed&quot;, &quot;ozone_source&quot;: &quot;mod09cmg_nrt&quot;, &quot;ozone_status&quot;: &quot;Data Found&quot;, &quot;ozone_std&quot;: 0.0, &quot;ozone_used&quot;: 0.3, &quot;satellite_azimuth_angle&quot;: 0, &quot;satellite_zenith_angle&quot;: 0, &quot;solar_azimuth_angle&quot;: 95.4819, &quot;solar_zenith_angle&quot;: 34.518, &quot;sr_version&quot;: &quot;1.0&quot;, &quot;water_vapor_coverage&quot;: 0.72, &quot;water_vapor_mean_quality&quot;: 1, &quot;water_vapor_method&quot;: &quot;fixed&quot;, &quot;water_vapor_source&quot;: &quot;mod09cma&quot;, &quot;water_vapor_status&quot;: &quot;Data Found&quot;, &quot;water_vapor_std&quot;: 0.045, &quot;water_vapor_used&quot;: 1.3}}</dd></dl></div></li></ul></div></div>"
      ],
      "text/plain": [
       "<xarray.DataArray (band: 4, y: 4091, x: 8251)>\n",
       "[135019364 values with dtype=uint16]\n",
       "Coordinates:\n",
       "  * band     (band) int64 1 2 3 4\n",
       "  * y        (y) float64 3.509e+06 3.509e+06 3.509e+06 ... 3.497e+06 3.497e+06\n",
       "  * x        (x) float64 5.668e+05 5.668e+05 5.668e+05 ... 5.915e+05 5.915e+05\n",
       "Attributes:\n",
       "    transform:                 (3.0, 0.0, 566751.0, 0.0, -3.0, 3509481.0)\n",
       "    crs:                       +init=epsg:32612\n",
       "    res:                       (3.0, 3.0)\n",
       "    is_tiled:                  1\n",
       "    nodatavals:                (0.0, 0.0, 0.0, 0.0)\n",
       "    scales:                    (1.0, 1.0, 1.0, 1.0)\n",
       "    offsets:                   (0.0, 0.0, 0.0, 0.0)\n",
       "    descriptions:              ('blue', 'green', 'red', 'nir')\n",
       "    AREA_OR_POINT:             Area\n",
       "    TIFFTAG_DATETIME:          2019:06:06 16:49:31\n",
       "    TIFFTAG_IMAGEDESCRIPTION:  {\"atmospheric_correction\": {\"aerosol_model\": \"..."
      ]
     },
     "execution_count": 2,
     "metadata": {},
     "output_type": "execute_result"
    }
   ],
   "source": [
    "san_pedro_sr = xa.open_rasterio(\"data/20190606_164931_104b_3B_AnalyticMS_SR.tif\")\n",
    "san_pedro_sr"
   ]
  },
  {
   "cell_type": "code",
   "execution_count": 3,
   "metadata": {},
   "outputs": [],
   "source": [
    "san_pedro_sr_bgr = san_pedro_sr.sel(band=slice(1,3)) # we make a new variable, keeping the blue, green, and red bands"
   ]
  },
  {
   "cell_type": "code",
   "execution_count": 4,
   "metadata": {},
   "outputs": [],
   "source": [
    "san_pedro_sr_rgb = san_pedro_sr_bgr[::-1, ...] # reversing the order of the band axis from bgr to rgb"
   ]
  },
  {
   "cell_type": "markdown",
   "metadata": {},
   "source": [
    "The in python we can use xarray's `imshow` function to plot single band or rgb data. `robust=True` clips the visualization to the minimum and maximum values in the dataset."
   ]
  },
  {
   "cell_type": "code",
   "execution_count": 5,
   "metadata": {},
   "outputs": [
    {
     "data": {
      "text/plain": [
       "<matplotlib.image.AxesImage at 0x7f426ac58e10>"
      ]
     },
     "execution_count": 5,
     "metadata": {},
     "output_type": "execute_result"
    },
    {
     "data": {
      "image/png": "[encoded data removed]",
      "text/plain": [
       "<Figure size 432x288 with 1 Axes>"
      ]
     },
     "metadata": {
      "needs_background": "light"
     },
     "output_type": "display_data"
    }
   ],
   "source": [
    "san_pedro_sr_rgb.plot.imshow(robust=True)"
   ]
  },
  {
   "cell_type": "markdown",
   "metadata": {},
   "source": [
    "Let's take a look at it in QGIS so that we can compare our data to basemap layers.\n",
    "\n",
    "Our scene looks pretty good once we normalize the display in QGIS by the maximum and minimum of the scene. And with a false color composite, the riparian forest clearly pops out and individual tree crowns are nearly distinguishable. To examine the metadata, the simplest way is to load the json in a tabular format, with rows and columns like an excel spreadsheet. To do this we can use pandas, the python data analysis package.\n",
    "\n",
    "This comes with anaconda and if you don't have it, do `pip install pandas`"
   ]
  },
  {
   "cell_type": "code",
   "execution_count": 1,
   "metadata": {},
   "outputs": [
    {
     "data": {
      "text/html": [
       "<div>\n",
       "<style scoped>\n",
       "    .dataframe tbody tr th:only-of-type {\n",
       "        vertical-align: middle;\n",
       "    }\n",
       "\n",
       "    .dataframe tbody tr th {\n",
       "        vertical-align: top;\n",
       "    }\n",
       "\n",
       "    .dataframe thead th {\n",
       "        text-align: right;\n",
       "    }\n",
       "</style>\n",
       "<table border=\"1\" class=\"dataframe\">\n",
       "  <thead>\n",
       "    <tr style=\"text-align: right;\">\n",
       "      <th></th>\n",
       "      <th>id</th>\n",
       "      <th>type</th>\n",
       "      <th>properties</th>\n",
       "    </tr>\n",
       "  </thead>\n",
       "  <tbody>\n",
       "    <tr>\n",
       "      <th>coordinates</th>\n",
       "      <td>20190606_164931_104b</td>\n",
       "      <td>Feature</td>\n",
       "      <td>NaN</td>\n",
       "    </tr>\n",
       "    <tr>\n",
       "      <th>type</th>\n",
       "      <td>20190606_164931_104b</td>\n",
       "      <td>Feature</td>\n",
       "      <td>NaN</td>\n",
       "    </tr>\n",
       "    <tr>\n",
       "      <th>acquired</th>\n",
       "      <td>20190606_164931_104b</td>\n",
       "      <td>Feature</td>\n",
       "      <td>2019-06-06T16:49:31.680516Z</td>\n",
       "    </tr>\n",
       "    <tr>\n",
       "      <th>anomalous_pixels</th>\n",
       "      <td>20190606_164931_104b</td>\n",
       "      <td>Feature</td>\n",
       "      <td>0</td>\n",
       "    </tr>\n",
       "    <tr>\n",
       "      <th>clear_confidence_percent</th>\n",
       "      <td>20190606_164931_104b</td>\n",
       "      <td>Feature</td>\n",
       "      <td>97</td>\n",
       "    </tr>\n",
       "    <tr>\n",
       "      <th>clear_percent</th>\n",
       "      <td>20190606_164931_104b</td>\n",
       "      <td>Feature</td>\n",
       "      <td>100</td>\n",
       "    </tr>\n",
       "    <tr>\n",
       "      <th>cloud_cover</th>\n",
       "      <td>20190606_164931_104b</td>\n",
       "      <td>Feature</td>\n",
       "      <td>0</td>\n",
       "    </tr>\n",
       "    <tr>\n",
       "      <th>cloud_percent</th>\n",
       "      <td>20190606_164931_104b</td>\n",
       "      <td>Feature</td>\n",
       "      <td>0</td>\n",
       "    </tr>\n",
       "    <tr>\n",
       "      <th>columns</th>\n",
       "      <td>20190606_164931_104b</td>\n",
       "      <td>Feature</td>\n",
       "      <td>8250</td>\n",
       "    </tr>\n",
       "    <tr>\n",
       "      <th>epsg_code</th>\n",
       "      <td>20190606_164931_104b</td>\n",
       "      <td>Feature</td>\n",
       "      <td>32612</td>\n",
       "    </tr>\n",
       "    <tr>\n",
       "      <th>ground_control</th>\n",
       "      <td>20190606_164931_104b</td>\n",
       "      <td>Feature</td>\n",
       "      <td>True</td>\n",
       "    </tr>\n",
       "    <tr>\n",
       "      <th>gsd</th>\n",
       "      <td>20190606_164931_104b</td>\n",
       "      <td>Feature</td>\n",
       "      <td>3.6</td>\n",
       "    </tr>\n",
       "    <tr>\n",
       "      <th>heavy_haze_percent</th>\n",
       "      <td>20190606_164931_104b</td>\n",
       "      <td>Feature</td>\n",
       "      <td>0</td>\n",
       "    </tr>\n",
       "    <tr>\n",
       "      <th>instrument</th>\n",
       "      <td>20190606_164931_104b</td>\n",
       "      <td>Feature</td>\n",
       "      <td>PS2</td>\n",
       "    </tr>\n",
       "    <tr>\n",
       "      <th>item_type</th>\n",
       "      <td>20190606_164931_104b</td>\n",
       "      <td>Feature</td>\n",
       "      <td>PSScene4Band</td>\n",
       "    </tr>\n",
       "    <tr>\n",
       "      <th>light_haze_percent</th>\n",
       "      <td>20190606_164931_104b</td>\n",
       "      <td>Feature</td>\n",
       "      <td>0</td>\n",
       "    </tr>\n",
       "    <tr>\n",
       "      <th>origin_x</th>\n",
       "      <td>20190606_164931_104b</td>\n",
       "      <td>Feature</td>\n",
       "      <td>566751</td>\n",
       "    </tr>\n",
       "    <tr>\n",
       "      <th>origin_y</th>\n",
       "      <td>20190606_164931_104b</td>\n",
       "      <td>Feature</td>\n",
       "      <td>3509481</td>\n",
       "    </tr>\n",
       "    <tr>\n",
       "      <th>pixel_resolution</th>\n",
       "      <td>20190606_164931_104b</td>\n",
       "      <td>Feature</td>\n",
       "      <td>3</td>\n",
       "    </tr>\n",
       "    <tr>\n",
       "      <th>provider</th>\n",
       "      <td>20190606_164931_104b</td>\n",
       "      <td>Feature</td>\n",
       "      <td>planetscope</td>\n",
       "    </tr>\n",
       "    <tr>\n",
       "      <th>published</th>\n",
       "      <td>20190606_164931_104b</td>\n",
       "      <td>Feature</td>\n",
       "      <td>2019-06-06T20:25:09.445Z</td>\n",
       "    </tr>\n",
       "    <tr>\n",
       "      <th>quality_category</th>\n",
       "      <td>20190606_164931_104b</td>\n",
       "      <td>Feature</td>\n",
       "      <td>standard</td>\n",
       "    </tr>\n",
       "    <tr>\n",
       "      <th>rows</th>\n",
       "      <td>20190606_164931_104b</td>\n",
       "      <td>Feature</td>\n",
       "      <td>4092</td>\n",
       "    </tr>\n",
       "    <tr>\n",
       "      <th>satellite_id</th>\n",
       "      <td>20190606_164931_104b</td>\n",
       "      <td>Feature</td>\n",
       "      <td>104b</td>\n",
       "    </tr>\n",
       "    <tr>\n",
       "      <th>shadow_percent</th>\n",
       "      <td>20190606_164931_104b</td>\n",
       "      <td>Feature</td>\n",
       "      <td>0</td>\n",
       "    </tr>\n",
       "    <tr>\n",
       "      <th>snow_ice_percent</th>\n",
       "      <td>20190606_164931_104b</td>\n",
       "      <td>Feature</td>\n",
       "      <td>0</td>\n",
       "    </tr>\n",
       "    <tr>\n",
       "      <th>strip_id</th>\n",
       "      <td>20190606_164931_104b</td>\n",
       "      <td>Feature</td>\n",
       "      <td>2423031</td>\n",
       "    </tr>\n",
       "    <tr>\n",
       "      <th>sun_azimuth</th>\n",
       "      <td>20190606_164931_104b</td>\n",
       "      <td>Feature</td>\n",
       "      <td>95.5</td>\n",
       "    </tr>\n",
       "    <tr>\n",
       "      <th>sun_elevation</th>\n",
       "      <td>20190606_164931_104b</td>\n",
       "      <td>Feature</td>\n",
       "      <td>55.5</td>\n",
       "    </tr>\n",
       "    <tr>\n",
       "      <th>updated</th>\n",
       "      <td>20190606_164931_104b</td>\n",
       "      <td>Feature</td>\n",
       "      <td>2019-06-07T04:10:09.675Z</td>\n",
       "    </tr>\n",
       "    <tr>\n",
       "      <th>usable_data</th>\n",
       "      <td>20190606_164931_104b</td>\n",
       "      <td>Feature</td>\n",
       "      <td>0</td>\n",
       "    </tr>\n",
       "    <tr>\n",
       "      <th>view_angle</th>\n",
       "      <td>20190606_164931_104b</td>\n",
       "      <td>Feature</td>\n",
       "      <td>3</td>\n",
       "    </tr>\n",
       "    <tr>\n",
       "      <th>visible_confidence_percent</th>\n",
       "      <td>20190606_164931_104b</td>\n",
       "      <td>Feature</td>\n",
       "      <td>97</td>\n",
       "    </tr>\n",
       "    <tr>\n",
       "      <th>visible_percent</th>\n",
       "      <td>20190606_164931_104b</td>\n",
       "      <td>Feature</td>\n",
       "      <td>100</td>\n",
       "    </tr>\n",
       "  </tbody>\n",
       "</table>\n",
       "</div>"
      ],
      "text/plain": [
       "                                              id     type  \\\n",
       "coordinates                 20190606_164931_104b  Feature   \n",
       "type                        20190606_164931_104b  Feature   \n",
       "acquired                    20190606_164931_104b  Feature   \n",
       "anomalous_pixels            20190606_164931_104b  Feature   \n",
       "clear_confidence_percent    20190606_164931_104b  Feature   \n",
       "clear_percent               20190606_164931_104b  Feature   \n",
       "cloud_cover                 20190606_164931_104b  Feature   \n",
       "cloud_percent               20190606_164931_104b  Feature   \n",
       "columns                     20190606_164931_104b  Feature   \n",
       "epsg_code                   20190606_164931_104b  Feature   \n",
       "ground_control              20190606_164931_104b  Feature   \n",
       "gsd                         20190606_164931_104b  Feature   \n",
       "heavy_haze_percent          20190606_164931_104b  Feature   \n",
       "instrument                  20190606_164931_104b  Feature   \n",
       "item_type                   20190606_164931_104b  Feature   \n",
       "light_haze_percent          20190606_164931_104b  Feature   \n",
       "origin_x                    20190606_164931_104b  Feature   \n",
       "origin_y                    20190606_164931_104b  Feature   \n",
       "pixel_resolution            20190606_164931_104b  Feature   \n",
       "provider                    20190606_164931_104b  Feature   \n",
       "published                   20190606_164931_104b  Feature   \n",
       "quality_category            20190606_164931_104b  Feature   \n",
       "rows                        20190606_164931_104b  Feature   \n",
       "satellite_id                20190606_164931_104b  Feature   \n",
       "shadow_percent              20190606_164931_104b  Feature   \n",
       "snow_ice_percent            20190606_164931_104b  Feature   \n",
       "strip_id                    20190606_164931_104b  Feature   \n",
       "sun_azimuth                 20190606_164931_104b  Feature   \n",
       "sun_elevation               20190606_164931_104b  Feature   \n",
       "updated                     20190606_164931_104b  Feature   \n",
       "usable_data                 20190606_164931_104b  Feature   \n",
       "view_angle                  20190606_164931_104b  Feature   \n",
       "visible_confidence_percent  20190606_164931_104b  Feature   \n",
       "visible_percent             20190606_164931_104b  Feature   \n",
       "\n",
       "                                             properties  \n",
       "coordinates                                         NaN  \n",
       "type                                                NaN  \n",
       "acquired                    2019-06-06T16:49:31.680516Z  \n",
       "anomalous_pixels                                      0  \n",
       "clear_confidence_percent                             97  \n",
       "clear_percent                                       100  \n",
       "cloud_cover                                           0  \n",
       "cloud_percent                                         0  \n",
       "columns                                            8250  \n",
       "epsg_code                                         32612  \n",
       "ground_control                                     True  \n",
       "gsd                                                 3.6  \n",
       "heavy_haze_percent                                    0  \n",
       "instrument                                          PS2  \n",
       "item_type                                  PSScene4Band  \n",
       "light_haze_percent                                    0  \n",
       "origin_x                                         566751  \n",
       "origin_y                                        3509481  \n",
       "pixel_resolution                                      3  \n",
       "provider                                    planetscope  \n",
       "published                      2019-06-06T20:25:09.445Z  \n",
       "quality_category                               standard  \n",
       "rows                                               4092  \n",
       "satellite_id                                       104b  \n",
       "shadow_percent                                        0  \n",
       "snow_ice_percent                                      0  \n",
       "strip_id                                        2423031  \n",
       "sun_azimuth                                        95.5  \n",
       "sun_elevation                                      55.5  \n",
       "updated                        2019-06-07T04:10:09.675Z  \n",
       "usable_data                                           0  \n",
       "view_angle                                            3  \n",
       "visible_confidence_percent                           97  \n",
       "visible_percent                                     100  "
      ]
     },
     "execution_count": 1,
     "metadata": {},
     "output_type": "execute_result"
    }
   ],
   "source": [
    "import pandas as pd\n",
    "pd.read_json(\"data/20190606_164931_104b_metadata.json\").drop(\"geometry\", axis=1)"
   ]
  },
  {
   "cell_type": "markdown",
   "metadata": {},
   "source": [
    "If you have questions about the metadata attributes,a good place to submit questions is the [Planet Community Forum](https://support.planet.com/hc/en-us/community/topics/). You can find more tutorials on working with Planet imagery, exploring the usable data mask, and more at the Developer Resource Center: https://developers.planet.com/planetschool/\n",
    "\n",
    "Keep in mind that some of the tutorials listed are newer than others. Anything referencing the Version 1 API is old, and it's best to use porder instead. If you'd like advice about which resources to check out next or have questions about how to use Planet in your research, talk to Ryan (ravery@ucsb.edu)."
   ]
  }
 ],
 "metadata": {
  "kernelspec": {
   "display_name": "Python 3",
   "language": "python",
   "name": "python3"
  },
  "language_info": {
   "codemirror_mode": {
    "name": "ipython",
    "version": 3
   },
   "file_extension": ".py",
   "mimetype": "text/x-python",
   "name": "python",
   "nbconvert_exporter": "python",
   "pygments_lexer": "ipython3",
   "version": "3.7.3"
  }
 },
 "nbformat": 4,
 "nbformat_minor": 4
}
