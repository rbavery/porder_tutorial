{
 "cells": [
  {
   "cell_type": "markdown",
   "metadata": {},
   "source": [
    "# Tutorial Setup"
   ]
  },
  {
   "cell_type": "markdown",
   "metadata": {},
   "source": [
    "1. Install git following instructions for your operating system: https://carpentries.github.io/workshop-template/#git\n",
    "2. If you have python installed, follow these instructions to install `porder`: https://github.com/samapriya/porder#prerequisites\n",
    "    - If you don't have python installed, follow the instructions for your operating system: https://carpentries.github.io/workshop-template/#python\n",
    "    - most OS's come with python nowadays and you can use python 2 for this tutorial. If you don't have a package you can install it with `pip install package-name`. You can check if you have python by opening a terminal and running `python`\n",
    "3. Download this repository and notebook with the terminal command: `git clone https://github.com/rbavery/porder_tutorial.git`\n",
    "4. `cd porder_tutorial`\n",
    "5. `jupyter lab` or `jupyter notebook`. If you don't have jupyter installed, install it with `pip install jupyterlab`"
   ]
  },
  {
   "cell_type": "markdown",
   "metadata": {},
   "source": [
    "# First things first, what's this notebook thing?"
   ]
  },
  {
   "cell_type": "markdown",
   "metadata": {},
   "source": [
    "For this tutorial we will be running terminal commands from within a jupyter notebook. A jupyter notebook allows you to mix code and markdown (basically, text) wihtin a single document. As we step through and execute the commands, take notes in a seperate markdown cell (like this one!). After the tutorial, refer back to your notebook or the [porder documentation](https://github.com/samapriya/porder) in case you get stuck using porder. You can use porder through your native shell or the notebook, but we will use the notebook today so that all the commands you run are saved and you can refer to them later.\n",
    "\n",
    "You can turn a code cell into a markdown cell or vice-versa by using the menu bar above. Keyboard shortcuts for manipulating the jupyter notebook are listed in help, feel free to try these out as we go along. Typing \"M\" turns a cell to Markdown. \"Y\" turns it into a code cell"
   ]
  },
  {
   "cell_type": "markdown",
   "metadata": {},
   "source": [
    "### Change the code cell below to a Markdown cell. What happened?"
   ]
  },
  {
   "cell_type": "code",
   "execution_count": null,
   "metadata": {},
   "outputs": [],
   "source": []
  },
  {
   "cell_type": "markdown",
   "metadata": {},
   "source": [
    "Before continuing through the notebook, make sure you have installed porder. If you had to install `porder` in a [conda environment](https://docs.conda.io/projects/conda/en/latest/user-guide/concepts/environments.html) then make sure you have also installed `ipykernel` in that environment. If any of this is confusing or you need help getting porder installed and usable in your notebook, get in touch with Ryan (ravery@ucsb.edu)"
   ]
  },
  {
   "cell_type": "markdown",
   "metadata": {},
   "source": [
    "! makes the cell execute bash code instead of python code. Here we list out the files and folders in out current working directory (cwd). The cwd is the same as the directory where we started the jupyter notebook"
   ]
  },
  {
   "cell_type": "code",
   "execution_count": 1,
   "metadata": {},
   "outputs": [
    {
     "name": "stdout",
     "output_type": "stream",
     "text": [
      "data/\t\t porder_tutorial.ipynb\tsan_pedro_section.geojson\r\n",
      "environment.yml  README.md\r\n"
     ]
    }
   ],
   "source": [
    "!ls -F"
   ]
  },
  {
   "cell_type": "markdown",
   "metadata": {},
   "source": []
  },
  {
   "cell_type": "markdown",
   "metadata": {},
   "source": [
    "All terminal programs available in your native shell are available through the notebook, including porder.  **If you are working on this notebook via Binder, then first open a Terminal and run `planet init` to authenticate with your Planet Labs account**"
   ]
  },
  {
   "cell_type": "code",
   "execution_count": 2,
   "metadata": {},
   "outputs": [
    {
     "name": "stdout",
     "output_type": "stream",
     "text": [
      "usage: porder [-h]\r\n",
      "              {version,quota,shp2geojson,base64,simplify,idlist,difflist,idsplit,idcheck,bundles,order,ordersize,ostate,stats,download,multipart,multiproc}\r\n",
      "              ...\r\n",
      "\r\n",
      "Ordersv2 Simple Client\r\n",
      "\r\n",
      "positional arguments:\r\n",
      "  {version,quota,shp2geojson,base64,simplify,idlist,difflist,idsplit,idcheck,bundles,order,ordersize,ostate,stats,download,multipart,multiproc}\r\n",
      "    version             Prints porder version and exists\r\n",
      "    quota               Prints your Planet Quota Details\r\n",
      "    shp2geojson         Convert all shapefiles in folder to GeoJSON\r\n",
      "    base64              Base 64 encode a JSON file\r\n",
      "    simplify            Simplifies geometry to number of vertices specified\r\n",
      "                        using Visvalingam-Wyatt line simplification algorithm\r\n",
      "    idlist              Get idlist using geometry & filters\r\n",
      "    difflist            Checks the difference between local files and\r\n",
      "                        available Planet assets\r\n",
      "    idsplit             Splits ID list incase you want to run them in small\r\n",
      "                        batches\r\n",
      "    idcheck             Check idlist for estimating clipped area\r\n",
      "    bundles             Check bundles of assets for given tiem type\r\n",
      "    order               Place an order & get order url currently supports\r\n",
      "                        \"toar\",\"clip\",\"composite\",\"reproject\",\"compression\"\r\n",
      "    ordersize           Estimate total download size\r\n",
      "    ostate              Get list of orders by state and date range\r\n",
      "    stats               Prints number of orders queued and running for org &\r\n",
      "                        user\r\n",
      "    download            Downloads all files in your order\r\n",
      "    multipart           Uses multiprocessing to download for all files in your\r\n",
      "                        order\r\n",
      "    multiproc           Multiprocess based downloader to download for all\r\n",
      "                        files in your order\r\n",
      "\r\n",
      "optional arguments:\r\n",
      "  -h, --help            show this help message and exit\r\n"
     ]
    }
   ],
   "source": [
    "!porder -h"
   ]
  },
  {
   "cell_type": "markdown",
   "metadata": {},
   "source": []
  },
  {
   "cell_type": "markdown",
   "metadata": {},
   "source": [
    "Before using any of these porder commands, you'll need to authenticate using the `planet init` command. This is one spot where we can't use the notebook. Click the + sign in the upper left that represents \"New Launcher\". Launch a Terminal from that window that opens up when you click the +. Then run `planet init` in the Terminal. You will need your email and password for your Planet Account (If you don't have this, email Ryan at ravery@ucsb.edu, you'll need to be added as a departmental user)."
   ]
  },
  {
   "cell_type": "markdown",
   "metadata": {},
   "source": []
  },
  {
   "cell_type": "markdown",
   "metadata": {},
   "source": [
    "There are a lot of commands available, but the ones I've used most often include:\n",
    "\n",
    "1. `porder idlist` to search for planet imagery in an area of interest and create the list of ids used to order imagery\n",
    "2. `porder order` to place the order\n",
    "3. `porder multiproc` to download the order\n",
    "\n",
    "We will run these 3 commands to order some 4-band 3.5 meter Planetscope imagery over the [San Pedro Riparian National Conservation Area](https://visit.sierravistaaz.gov/see-do/nature-science/san-pedro-riparian-national-conservation-area/)\n",
    "\n",
    "If you would like to work with a different area for this tutorial, you can quickly draw a bounding box and downloa din geojson format using this tool: http://geojson.io/#map=2/20.0/0.0"
   ]
  },
  {
   "cell_type": "markdown",
   "metadata": {},
   "source": [
    "To get help for a particular command, run that command with the `-h` flag"
   ]
  },
  {
   "cell_type": "code",
   "execution_count": 3,
   "metadata": {},
   "outputs": [
    {
     "name": "stdout",
     "output_type": "stream",
     "text": [
      "usage: porder idlist [-h] --input INPUT --start START --end END --item ITEM\r\n",
      "                     [--asset ASSET] --outfile OUTFILE [--cmin CMIN]\r\n",
      "                     [--cmax CMAX] [--number NUMBER] [--overlap OVERLAP]\r\n",
      "                     [--filters FILTERS [FILTERS ...]]\r\n",
      "\r\n",
      "optional arguments:\r\n",
      "  -h, --help            show this help message and exit\r\n",
      "\r\n",
      "Required named arguments.:\r\n",
      "  --input INPUT         Input geometry file for now geojson/json/kml\r\n",
      "  --start START         Start date in format YYYY-MM-DD\r\n",
      "  --end END             End date in format YYYY-MM-DD\r\n",
      "  --item ITEM           Item Type PSScene4Band|PSOrthoTile|REOrthoTile etc\r\n",
      "  --asset ASSET         Asset Type analytic, analytic_sr,visual etc\r\n",
      "  --outfile OUTFILE     Output csv file\r\n",
      "\r\n",
      "Optional named arguments:\r\n",
      "  --cmin CMIN           Minimum cloud cover 0-1 represents 0 to 100\r\n",
      "  --cmax CMAX           Maximum cloud cover 0-1 represents 0 to 100\r\n",
      "  --number NUMBER       Total number of assets, give a large number if you are\r\n",
      "                        not sure\r\n",
      "  --overlap OVERLAP     Percentage overlap of image with search area range\r\n",
      "                        between 0 to 100\r\n",
      "  --filters FILTERS [FILTERS ...]\r\n",
      "                        Add an additional string or range filter, Read Me\r\n"
     ]
    }
   ],
   "source": [
    "!porder idlist -h"
   ]
  },
  {
   "cell_type": "markdown",
   "metadata": {},
   "source": [
    "We will order a scene with 100% overlap in our study area, less than 5% cloud cover, and limit the number of assets returned to 1 for demonstration. **Make sure to wrap arguments in quotes \"\" and use relative paths instead of absolute paths for the `--outfile` and  `--input` geojson.** As you can see, a single order can have lots of flags and turn out to be very long, so make sure refer back to this notebook or the porder github page if you get stuck typing one of these out."
   ]
  },
  {
   "cell_type": "markdown",
   "metadata": {},
   "source": [
    "**Run `pwd` to find your home directory and edit the paths for each command according to where the tutorial files are located on your computer.**"
   ]
  },
  {
   "cell_type": "code",
   "execution_count": 5,
   "metadata": {},
   "outputs": [
    {
     "name": "stdout",
     "output_type": "stream",
     "text": [
      "/home/jovyan\r\n"
     ]
    }
   ],
   "source": [
    "!pwd"
   ]
  },
  {
   "cell_type": "code",
   "execution_count": 6,
   "metadata": {},
   "outputs": [
    {
     "name": "stdout",
     "output_type": "stream",
     "text": [
      "\n",
      "Running search for a maximum of: 1 assets\n",
      "/srv/conda/envs/notebook/lib/python3.6/site-packages/pyproj/crs.py:77: FutureWarning: '+init=<authority>:<code>' syntax is deprecated. '<authority>:<code>' is the preferred initialization method.\n",
      "  return _prepare_from_string(\" \".join(pjargs))\n",
      "/srv/conda/envs/notebook/lib/python3.6/site-packages/pyproj/crs.py:77: FutureWarning: '+init=<authority>:<code>' syntax is deprecated. '<authority>:<code>' is the preferred initialization method.\n",
      "  return _prepare_from_string(\" \".join(pjargs))\n",
      "/srv/conda/envs/notebook/lib/python3.6/site-packages/pyproj/crs.py:77: FutureWarning: '+init=<authority>:<code>' syntax is deprecated. '<authority>:<code>' is the preferred initialization method.\n",
      "  return _prepare_from_string(\" \".join(pjargs))\n",
      "/srv/conda/envs/notebook/lib/python3.6/site-packages/pyproj/crs.py:77: FutureWarning: '+init=<authority>:<code>' syntax is deprecated. '<authority>:<code>' is the preferred initialization method.\n",
      "  return _prepare_from_string(\" \".join(pjargs))\n",
      "/srv/conda/envs/notebook/lib/python3.6/site-packages/pyproj/crs.py:77: FutureWarning: '+init=<authority>:<code>' syntax is deprecated. '<authority>:<code>' is the preferred initialization method.\n",
      "  return _prepare_from_string(\" \".join(pjargs))\n",
      "/srv/conda/envs/notebook/lib/python3.6/site-packages/pyproj/crs.py:77: FutureWarning: '+init=<authority>:<code>' syntax is deprecated. '<authority>:<code>' is the preferred initialization method.\n",
      "  return _prepare_from_string(\" \".join(pjargs))\n",
      "/srv/conda/envs/notebook/lib/python3.6/site-packages/pyproj/crs.py:77: FutureWarning: '+init=<authority>:<code>' syntax is deprecated. '<authority>:<code>' is the preferred initialization method.\n",
      "  return _prepare_from_string(\" \".join(pjargs))\n",
      "/srv/conda/envs/notebook/lib/python3.6/site-packages/pyproj/crs.py:77: FutureWarning: '+init=<authority>:<code>' syntax is deprecated. '<authority>:<code>' is the preferred initialization method.\n",
      "  return _prepare_from_string(\" \".join(pjargs))\n",
      "/srv/conda/envs/notebook/lib/python3.6/site-packages/pyproj/crs.py:77: FutureWarning: '+init=<authority>:<code>' syntax is deprecated. '<authority>:<code>' is the preferred initialization method.\n",
      "  return _prepare_from_string(\" \".join(pjargs))\n",
      "/srv/conda/envs/notebook/lib/python3.6/site-packages/pyproj/crs.py:77: FutureWarning: '+init=<authority>:<code>' syntax is deprecated. '<authority>:<code>' is the preferred initialization method.\n",
      "  return _prepare_from_string(\" \".join(pjargs))\n",
      "/srv/conda/envs/notebook/lib/python3.6/site-packages/pyproj/crs.py:77: FutureWarning: '+init=<authority>:<code>' syntax is deprecated. '<authority>:<code>' is the preferred initialization method.\n",
      "  return _prepare_from_string(\" \".join(pjargs))\n",
      "/srv/conda/envs/notebook/lib/python3.6/site-packages/pyproj/crs.py:77: FutureWarning: '+init=<authority>:<code>' syntax is deprecated. '<authority>:<code>' is the preferred initialization method.\n",
      "  return _prepare_from_string(\" \".join(pjargs))\n",
      "/srv/conda/envs/notebook/lib/python3.6/site-packages/pyproj/crs.py:77: FutureWarning: '+init=<authority>:<code>' syntax is deprecated. '<authority>:<code>' is the preferred initialization method.\n",
      "  return _prepare_from_string(\" \".join(pjargs))\n",
      "/srv/conda/envs/notebook/lib/python3.6/site-packages/pyproj/crs.py:77: FutureWarning: '+init=<authority>:<code>' syntax is deprecated. '<authority>:<code>' is the preferred initialization method.\n",
      "  return _prepare_from_string(\" \".join(pjargs))\n",
      "/srv/conda/envs/notebook/lib/python3.6/site-packages/pyproj/crs.py:77: FutureWarning: '+init=<authority>:<code>' syntax is deprecated. '<authority>:<code>' is the preferred initialization method.\n",
      "  return _prepare_from_string(\" \".join(pjargs))\n",
      "/srv/conda/envs/notebook/lib/python3.6/site-packages/pyproj/crs.py:77: FutureWarning: '+init=<authority>:<code>' syntax is deprecated. '<authority>:<code>' is the preferred initialization method.\n",
      "  return _prepare_from_string(\" \".join(pjargs))\n",
      "/srv/conda/envs/notebook/lib/python3.6/site-packages/pyproj/crs.py:77: FutureWarning: '+init=<authority>:<code>' syntax is deprecated. '<authority>:<code>' is the preferred initialization method.\n",
      "  return _prepare_from_string(\" \".join(pjargs))\n",
      "/srv/conda/envs/notebook/lib/python3.6/site-packages/pyproj/crs.py:77: FutureWarning: '+init=<authority>:<code>' syntax is deprecated. '<authority>:<code>' is the preferred initialization method.\n",
      "  return _prepare_from_string(\" \".join(pjargs))\n",
      "/srv/conda/envs/notebook/lib/python3.6/site-packages/pyproj/crs.py:77: FutureWarning: '+init=<authority>:<code>' syntax is deprecated. '<authority>:<code>' is the preferred initialization method.\n",
      "  return _prepare_from_string(\" \".join(pjargs))\n",
      "/srv/conda/envs/notebook/lib/python3.6/site-packages/pyproj/crs.py:77: FutureWarning: '+init=<authority>:<code>' syntax is deprecated. '<authority>:<code>' is the preferred initialization method.\n",
      "  return _prepare_from_string(\" \".join(pjargs))\n",
      "/srv/conda/envs/notebook/lib/python3.6/site-packages/pyproj/crs.py:77: FutureWarning: '+init=<authority>:<code>' syntax is deprecated. '<authority>:<code>' is the preferred initialization method.\n",
      "  return _prepare_from_string(\" \".join(pjargs))\n",
      "/srv/conda/envs/notebook/lib/python3.6/site-packages/pyproj/crs.py:77: FutureWarning: '+init=<authority>:<code>' syntax is deprecated. '<authority>:<code>' is the preferred initialization method.\n",
      "  return _prepare_from_string(\" \".join(pjargs))\n",
      "/srv/conda/envs/notebook/lib/python3.6/site-packages/pyproj/crs.py:77: FutureWarning: '+init=<authority>:<code>' syntax is deprecated. '<authority>:<code>' is the preferred initialization method.\n",
      "  return _prepare_from_string(\" \".join(pjargs))\n",
      "/srv/conda/envs/notebook/lib/python3.6/site-packages/pyproj/crs.py:77: FutureWarning: '+init=<authority>:<code>' syntax is deprecated. '<authority>:<code>' is the preferred initialization method.\n",
      "  return _prepare_from_string(\" \".join(pjargs))\n",
      "/srv/conda/envs/notebook/lib/python3.6/site-packages/pyproj/crs.py:77: FutureWarning: '+init=<authority>:<code>' syntax is deprecated. '<authority>:<code>' is the preferred initialization method.\n",
      "  return _prepare_from_string(\" \".join(pjargs))\n",
      "/srv/conda/envs/notebook/lib/python3.6/site-packages/pyproj/crs.py:77: FutureWarning: '+init=<authority>:<code>' syntax is deprecated. '<authority>:<code>' is the preferred initialization method.\n",
      "  return _prepare_from_string(\" \".join(pjargs))\n",
      "/srv/conda/envs/notebook/lib/python3.6/site-packages/pyproj/crs.py:77: FutureWarning: '+init=<authority>:<code>' syntax is deprecated. '<authority>:<code>' is the preferred initialization method.\n",
      "  return _prepare_from_string(\" \".join(pjargs))\n",
      "/srv/conda/envs/notebook/lib/python3.6/site-packages/pyproj/crs.py:77: FutureWarning: '+init=<authority>:<code>' syntax is deprecated. '<authority>:<code>' is the preferred initialization method.\n",
      "  return _prepare_from_string(\" \".join(pjargs))\n",
      "/srv/conda/envs/notebook/lib/python3.6/site-packages/pyproj/crs.py:77: FutureWarning: '+init=<authority>:<code>' syntax is deprecated. '<authority>:<code>' is the preferred initialization method.\n",
      "  return _prepare_from_string(\" \".join(pjargs))\n",
      "/srv/conda/envs/notebook/lib/python3.6/site-packages/pyproj/crs.py:77: FutureWarning: '+init=<authority>:<code>' syntax is deprecated. '<authority>:<code>' is the preferred initialization method.\n",
      "  return _prepare_from_string(\" \".join(pjargs))\n",
      "/srv/conda/envs/notebook/lib/python3.6/site-packages/pyproj/crs.py:77: FutureWarning: '+init=<authority>:<code>' syntax is deprecated. '<authority>:<code>' is the preferred initialization method.\n",
      "  return _prepare_from_string(\" \".join(pjargs))\n",
      "/srv/conda/envs/notebook/lib/python3.6/site-packages/pyproj/crs.py:77: FutureWarning: '+init=<authority>:<code>' syntax is deprecated. '<authority>:<code>' is the preferred initialization method.\n",
      "  return _prepare_from_string(\" \".join(pjargs))\n",
      "/srv/conda/envs/notebook/lib/python3.6/site-packages/pyproj/crs.py:77: FutureWarning: '+init=<authority>:<code>' syntax is deprecated. '<authority>:<code>' is the preferred initialization method.\n",
      "  return _prepare_from_string(\" \".join(pjargs))\n",
      "/srv/conda/envs/notebook/lib/python3.6/site-packages/pyproj/crs.py:77: FutureWarning: '+init=<authority>:<code>' syntax is deprecated. '<authority>:<code>' is the preferred initialization method.\n",
      "  return _prepare_from_string(\" \".join(pjargs))\n"
     ]
    },
    {
     "name": "stdout",
     "output_type": "stream",
     "text": [
      "/srv/conda/envs/notebook/lib/python3.6/site-packages/pyproj/crs.py:77: FutureWarning: '+init=<authority>:<code>' syntax is deprecated. '<authority>:<code>' is the preferred initialization method.\n",
      "  return _prepare_from_string(\" \".join(pjargs))\n",
      "/srv/conda/envs/notebook/lib/python3.6/site-packages/pyproj/crs.py:77: FutureWarning: '+init=<authority>:<code>' syntax is deprecated. '<authority>:<code>' is the preferred initialization method.\n",
      "  return _prepare_from_string(\" \".join(pjargs))\n",
      "/srv/conda/envs/notebook/lib/python3.6/site-packages/pyproj/crs.py:77: FutureWarning: '+init=<authority>:<code>' syntax is deprecated. '<authority>:<code>' is the preferred initialization method.\n",
      "  return _prepare_from_string(\" \".join(pjargs))\n",
      "/srv/conda/envs/notebook/lib/python3.6/site-packages/pyproj/crs.py:77: FutureWarning: '+init=<authority>:<code>' syntax is deprecated. '<authority>:<code>' is the preferred initialization method.\n",
      "  return _prepare_from_string(\" \".join(pjargs))\n",
      "/srv/conda/envs/notebook/lib/python3.6/site-packages/pyproj/crs.py:77: FutureWarning: '+init=<authority>:<code>' syntax is deprecated. '<authority>:<code>' is the preferred initialization method.\n",
      "  return _prepare_from_string(\" \".join(pjargs))\n",
      "/srv/conda/envs/notebook/lib/python3.6/site-packages/pyproj/crs.py:77: FutureWarning: '+init=<authority>:<code>' syntax is deprecated. '<authority>:<code>' is the preferred initialization method.\n",
      "  return _prepare_from_string(\" \".join(pjargs))\n",
      "/srv/conda/envs/notebook/lib/python3.6/site-packages/pyproj/crs.py:77: FutureWarning: '+init=<authority>:<code>' syntax is deprecated. '<authority>:<code>' is the preferred initialization method.\n",
      "  return _prepare_from_string(\" \".join(pjargs))\n",
      "/srv/conda/envs/notebook/lib/python3.6/site-packages/pyproj/crs.py:77: FutureWarning: '+init=<authority>:<code>' syntax is deprecated. '<authority>:<code>' is the preferred initialization method.\n",
      "  return _prepare_from_string(\" \".join(pjargs))\n",
      "/srv/conda/envs/notebook/lib/python3.6/site-packages/pyproj/crs.py:77: FutureWarning: '+init=<authority>:<code>' syntax is deprecated. '<authority>:<code>' is the preferred initialization method.\n",
      "  return _prepare_from_string(\" \".join(pjargs))\n",
      "/srv/conda/envs/notebook/lib/python3.6/site-packages/pyproj/crs.py:77: FutureWarning: '+init=<authority>:<code>' syntax is deprecated. '<authority>:<code>' is the preferred initialization method.\n",
      "  return _prepare_from_string(\" \".join(pjargs))\n",
      "/srv/conda/envs/notebook/lib/python3.6/site-packages/pyproj/crs.py:77: FutureWarning: '+init=<authority>:<code>' syntax is deprecated. '<authority>:<code>' is the preferred initialization method.\n",
      "  return _prepare_from_string(\" \".join(pjargs))\n",
      "/srv/conda/envs/notebook/lib/python3.6/site-packages/pyproj/crs.py:77: FutureWarning: '+init=<authority>:<code>' syntax is deprecated. '<authority>:<code>' is the preferred initialization method.\n",
      "  return _prepare_from_string(\" \".join(pjargs))\n",
      "/srv/conda/envs/notebook/lib/python3.6/site-packages/pyproj/crs.py:77: FutureWarning: '+init=<authority>:<code>' syntax is deprecated. '<authority>:<code>' is the preferred initialization method.\n",
      "  return _prepare_from_string(\" \".join(pjargs))\n",
      "/srv/conda/envs/notebook/lib/python3.6/site-packages/pyproj/crs.py:77: FutureWarning: '+init=<authority>:<code>' syntax is deprecated. '<authority>:<code>' is the preferred initialization method.\n",
      "  return _prepare_from_string(\" \".join(pjargs))\n",
      "/srv/conda/envs/notebook/lib/python3.6/site-packages/pyproj/crs.py:77: FutureWarning: '+init=<authority>:<code>' syntax is deprecated. '<authority>:<code>' is the preferred initialization method.\n",
      "  return _prepare_from_string(\" \".join(pjargs))\n",
      "/srv/conda/envs/notebook/lib/python3.6/site-packages/pyproj/crs.py:77: FutureWarning: '+init=<authority>:<code>' syntax is deprecated. '<authority>:<code>' is the preferred initialization method.\n",
      "  return _prepare_from_string(\" \".join(pjargs))\n",
      "/srv/conda/envs/notebook/lib/python3.6/site-packages/pyproj/crs.py:77: FutureWarning: '+init=<authority>:<code>' syntax is deprecated. '<authority>:<code>' is the preferred initialization method.\n",
      "  return _prepare_from_string(\" \".join(pjargs))\n",
      "/srv/conda/envs/notebook/lib/python3.6/site-packages/pyproj/crs.py:77: FutureWarning: '+init=<authority>:<code>' syntax is deprecated. '<authority>:<code>' is the preferred initialization method.\n",
      "  return _prepare_from_string(\" \".join(pjargs))\n",
      "/srv/conda/envs/notebook/lib/python3.6/site-packages/pyproj/crs.py:77: FutureWarning: '+init=<authority>:<code>' syntax is deprecated. '<authority>:<code>' is the preferred initialization method.\n",
      "  return _prepare_from_string(\" \".join(pjargs))\n",
      "/srv/conda/envs/notebook/lib/python3.6/site-packages/pyproj/crs.py:77: FutureWarning: '+init=<authority>:<code>' syntax is deprecated. '<authority>:<code>' is the preferred initialization method.\n",
      "  return _prepare_from_string(\" \".join(pjargs))\n",
      "/srv/conda/envs/notebook/lib/python3.6/site-packages/pyproj/crs.py:77: FutureWarning: '+init=<authority>:<code>' syntax is deprecated. '<authority>:<code>' is the preferred initialization method.\n",
      "  return _prepare_from_string(\" \".join(pjargs))\n",
      "/srv/conda/envs/notebook/lib/python3.6/site-packages/pyproj/crs.py:77: FutureWarning: '+init=<authority>:<code>' syntax is deprecated. '<authority>:<code>' is the preferred initialization method.\n",
      "  return _prepare_from_string(\" \".join(pjargs))\n",
      "/srv/conda/envs/notebook/lib/python3.6/site-packages/pyproj/crs.py:77: FutureWarning: '+init=<authority>:<code>' syntax is deprecated. '<authority>:<code>' is the preferred initialization method.\n",
      "  return _prepare_from_string(\" \".join(pjargs))\n",
      "/srv/conda/envs/notebook/lib/python3.6/site-packages/pyproj/crs.py:77: FutureWarning: '+init=<authority>:<code>' syntax is deprecated. '<authority>:<code>' is the preferred initialization method.\n",
      "  return _prepare_from_string(\" \".join(pjargs))\n",
      "/srv/conda/envs/notebook/lib/python3.6/site-packages/pyproj/crs.py:77: FutureWarning: '+init=<authority>:<code>' syntax is deprecated. '<authority>:<code>' is the preferred initialization method.\n",
      "  return _prepare_from_string(\" \".join(pjargs))\n",
      "/srv/conda/envs/notebook/lib/python3.6/site-packages/pyproj/crs.py:77: FutureWarning: '+init=<authority>:<code>' syntax is deprecated. '<authority>:<code>' is the preferred initialization method.\n",
      "  return _prepare_from_string(\" \".join(pjargs))\n",
      "/srv/conda/envs/notebook/lib/python3.6/site-packages/pyproj/crs.py:77: FutureWarning: '+init=<authority>:<code>' syntax is deprecated. '<authority>:<code>' is the preferred initialization method.\n",
      "  return _prepare_from_string(\" \".join(pjargs))\n",
      "/srv/conda/envs/notebook/lib/python3.6/site-packages/pyproj/crs.py:77: FutureWarning: '+init=<authority>:<code>' syntax is deprecated. '<authority>:<code>' is the preferred initialization method.\n",
      "  return _prepare_from_string(\" \".join(pjargs))\n",
      "/srv/conda/envs/notebook/lib/python3.6/site-packages/pyproj/crs.py:77: FutureWarning: '+init=<authority>:<code>' syntax is deprecated. '<authority>:<code>' is the preferred initialization method.\n",
      "  return _prepare_from_string(\" \".join(pjargs))\n",
      "/srv/conda/envs/notebook/lib/python3.6/site-packages/pyproj/crs.py:77: FutureWarning: '+init=<authority>:<code>' syntax is deprecated. '<authority>:<code>' is the preferred initialization method.\n",
      "  return _prepare_from_string(\" \".join(pjargs))\n",
      "/srv/conda/envs/notebook/lib/python3.6/site-packages/pyproj/crs.py:77: FutureWarning: '+init=<authority>:<code>' syntax is deprecated. '<authority>:<code>' is the preferred initialization method.\n",
      "  return _prepare_from_string(\" \".join(pjargs))\n",
      "/srv/conda/envs/notebook/lib/python3.6/site-packages/pyproj/crs.py:77: FutureWarning: '+init=<authority>:<code>' syntax is deprecated. '<authority>:<code>' is the preferred initialization method.\n",
      "  return _prepare_from_string(\" \".join(pjargs))\n",
      "/srv/conda/envs/notebook/lib/python3.6/site-packages/pyproj/crs.py:77: FutureWarning: '+init=<authority>:<code>' syntax is deprecated. '<authority>:<code>' is the preferred initialization method.\n",
      "  return _prepare_from_string(\" \".join(pjargs))\n",
      "/srv/conda/envs/notebook/lib/python3.6/site-packages/pyproj/crs.py:77: FutureWarning: '+init=<authority>:<code>' syntax is deprecated. '<authority>:<code>' is the preferred initialization method.\n",
      "  return _prepare_from_string(\" \".join(pjargs))\n"
     ]
    },
    {
     "name": "stdout",
     "output_type": "stream",
     "text": [
      "/srv/conda/envs/notebook/lib/python3.6/site-packages/pyproj/crs.py:77: FutureWarning: '+init=<authority>:<code>' syntax is deprecated. '<authority>:<code>' is the preferred initialization method.\n",
      "  return _prepare_from_string(\" \".join(pjargs))\n",
      "/srv/conda/envs/notebook/lib/python3.6/site-packages/pyproj/crs.py:77: FutureWarning: '+init=<authority>:<code>' syntax is deprecated. '<authority>:<code>' is the preferred initialization method.\n",
      "  return _prepare_from_string(\" \".join(pjargs))\n",
      "/srv/conda/envs/notebook/lib/python3.6/site-packages/pyproj/crs.py:77: FutureWarning: '+init=<authority>:<code>' syntax is deprecated. '<authority>:<code>' is the preferred initialization method.\n",
      "  return _prepare_from_string(\" \".join(pjargs))\n",
      "/srv/conda/envs/notebook/lib/python3.6/site-packages/pyproj/crs.py:77: FutureWarning: '+init=<authority>:<code>' syntax is deprecated. '<authority>:<code>' is the preferred initialization method.\n",
      "  return _prepare_from_string(\" \".join(pjargs))\n",
      "/srv/conda/envs/notebook/lib/python3.6/site-packages/pyproj/crs.py:77: FutureWarning: '+init=<authority>:<code>' syntax is deprecated. '<authority>:<code>' is the preferred initialization method.\n",
      "  return _prepare_from_string(\" \".join(pjargs))\n",
      "/srv/conda/envs/notebook/lib/python3.6/site-packages/pyproj/crs.py:77: FutureWarning: '+init=<authority>:<code>' syntax is deprecated. '<authority>:<code>' is the preferred initialization method.\n",
      "  return _prepare_from_string(\" \".join(pjargs))\n",
      "/srv/conda/envs/notebook/lib/python3.6/site-packages/pyproj/crs.py:77: FutureWarning: '+init=<authority>:<code>' syntax is deprecated. '<authority>:<code>' is the preferred initialization method.\n",
      "  return _prepare_from_string(\" \".join(pjargs))\n",
      "/srv/conda/envs/notebook/lib/python3.6/site-packages/pyproj/crs.py:77: FutureWarning: '+init=<authority>:<code>' syntax is deprecated. '<authority>:<code>' is the preferred initialization method.\n",
      "  return _prepare_from_string(\" \".join(pjargs))\n",
      "/srv/conda/envs/notebook/lib/python3.6/site-packages/pyproj/crs.py:77: FutureWarning: '+init=<authority>:<code>' syntax is deprecated. '<authority>:<code>' is the preferred initialization method.\n",
      "  return _prepare_from_string(\" \".join(pjargs))\n",
      "/srv/conda/envs/notebook/lib/python3.6/site-packages/pyproj/crs.py:77: FutureWarning: '+init=<authority>:<code>' syntax is deprecated. '<authority>:<code>' is the preferred initialization method.\n",
      "  return _prepare_from_string(\" \".join(pjargs))\n",
      "/srv/conda/envs/notebook/lib/python3.6/site-packages/pyproj/crs.py:77: FutureWarning: '+init=<authority>:<code>' syntax is deprecated. '<authority>:<code>' is the preferred initialization method.\n",
      "  return _prepare_from_string(\" \".join(pjargs))\n",
      "/srv/conda/envs/notebook/lib/python3.6/site-packages/pyproj/crs.py:77: FutureWarning: '+init=<authority>:<code>' syntax is deprecated. '<authority>:<code>' is the preferred initialization method.\n",
      "  return _prepare_from_string(\" \".join(pjargs))\n",
      "Total number of assets written to /home/jovyan/data/idlist.csv ===> 1\n",
      "Total estimated cost to quota: 181 sqkm\n",
      "Total estimated cost to quota if clipped: 181 sqkm\n"
     ]
    }
   ],
   "source": [
    "!porder idlist --input \"/home/jovyan/san_pedro_section.geojson\" --start \"2019-06-01\" --end \"2019-06-08\" --item \"PSScene4Band\" --asset \"analytic_sr\" --outfile \"/home/jovyan/data/idlist.csv\" --cmax \".05\" --number \"1\" --overlap \"100\""
   ]
  },
  {
   "cell_type": "code",
   "execution_count": 7,
   "metadata": {},
   "outputs": [
    {
     "name": "stdout",
     "output_type": "stream",
     "text": [
      "usage: porder order [-h] --name NAME --idlist IDLIST --item ITEM --bundle\r\n",
      "                    BUNDLE [--sid SID] [--boundary BOUNDARY]\r\n",
      "                    [--projection PROJECTION] [--kernel KERNEL]\r\n",
      "                    [--compression COMPRESSION] [--aws AWS] [--azure AZURE]\r\n",
      "                    [--gcs GCS] [--op OP [OP ...]]\r\n",
      "\r\n",
      "optional arguments:\r\n",
      "  -h, --help            show this help message and exit\r\n",
      "\r\n",
      "Required named arguments.:\r\n",
      "  --name NAME           Order Name to be Submitted\r\n",
      "  --idlist IDLIST       CSV idlist with item IDs\r\n",
      "  --item ITEM           Item Type PSScene4Band|PSOrthoTile|REOrthoTile etc\r\n",
      "  --bundle BUNDLE       Bundle Type: analytic, analytic_sr,analytic_sr_udm2\r\n",
      "\r\n",
      "Optional named arguments:\r\n",
      "  --sid SID             Subscription ID\r\n",
      "  --boundary BOUNDARY   Boundary/geometry for clip operation geojson|json|kml\r\n",
      "  --projection PROJECTION\r\n",
      "                        Projection for reproject operation of type \"EPSG:4326\"\r\n",
      "  --kernel KERNEL       Resampling kernel used \"near\", \"bilinear\", \"cubic\",\r\n",
      "                        \"cubicspline\", \"lanczos\", \"average\" and \"mode\"\r\n",
      "  --compression COMPRESSION\r\n",
      "                        Compression type used for tiff_optimize tool,\r\n",
      "                        \"lzw\"|\"deflate\"\r\n",
      "  --aws AWS             AWS cloud credentials config yml file\r\n",
      "  --azure AZURE         Azure cloud credentials config yml file\r\n",
      "  --gcs GCS             GCS cloud credentials config yml file\r\n",
      "  --op OP [OP ...]      Add operations, delivery & notification clip|toar|harm\r\n",
      "                        onize|composite|zip|zipall|compression|projection|kern\r\n",
      "                        el|aws|azure|gcs|email <Choose indices from>:\r\n",
      "                        ndvi|gndvi|bndvi|ndwi|tvi|osavi|evi2|msavi2|sr\r\n"
     ]
    }
   ],
   "source": [
    "!porder order -h"
   ]
  },
  {
   "cell_type": "markdown",
   "metadata": {},
   "source": [
    "Below we submit the idlist.csv with the order command. Make sure to copy the url that is returned as we will use that in the download step. It should take about 5 minutes for the order to complete. We select the `analytic_sr_udm2` bundle, which comes with surface reflectance, metadata, and two versions of Planet's Usable Data Mask. There are many operations supported besides `email`, making this one of the more powerful commands for controlling the extent, quality, and kind of data you get back from Planet, so [check out the order documentation for more details](https://github.com/samapriya/porder#order)"
   ]
  },
  {
   "cell_type": "code",
   "execution_count": 8,
   "metadata": {},
   "outputs": [
    {
     "name": "stdout",
     "output_type": "stream",
     "text": [
      "Headless Setup: Order created at https://api.planet.com/compute/ops/orders/v2/0fc84f65-3306-4af8-81f1-500dac6eac5b\r\n"
     ]
    }
   ],
   "source": [
    "!porder order --name \"San Pedro Test\" --idlist \"/home/jovyan/data/idlist.csv\" --item \"PSScene4Band\" --bundle \"analytic_sr_udm2\" --op email"
   ]
  },
  {
   "cell_type": "markdown",
   "metadata": {},
   "source": [
    "You should receive an email when your order is complete, but you can also check on the status of your order with the following command. Initially it will show that an order is running for 1 user, when it is ready to download, it will show 0 running orders for user. You may see multiple folks running orders, in which case, check your email to see when the order you placed is complete."
   ]
  },
  {
   "cell_type": "code",
   "execution_count": 13,
   "metadata": {},
   "outputs": [
    {
     "name": "stdout",
     "output_type": "stream",
     "text": [
      "Checking on all running orders...\n",
      "\n",
      "Total queued order for organization: 0\n",
      "Total running orders for organization: 0\n",
      "\n",
      "Total queued orders for user: 0\n",
      "Total running orders for user: 0\n"
     ]
    }
   ],
   "source": [
    "!porder stats"
   ]
  },
  {
   "cell_type": "markdown",
   "metadata": {},
   "source": [
    "Once the order is complete, we can download it. This should go quick. You can copy the order id you receive in the email or the order url above and edit the order url below. If you get an `Key error` it is probably because you are running the below command with a different order URL."
   ]
  },
  {
   "cell_type": "code",
   "execution_count": 14,
   "metadata": {},
   "outputs": [
    {
     "name": "stdout",
     "output_type": "stream",
     "text": [
      "usage: porder multiproc [-h] [--url URL] [--local LOCAL] [--ext EXT]\r\n",
      "\r\n",
      "optional arguments:\r\n",
      "  -h, --help     show this help message and exit\r\n",
      "  --url URL      order url you got for your order\r\n",
      "  --local LOCAL  Output folder where ordered files will be exported\r\n",
      "\r\n",
      "Optional named arguments:\r\n",
      "  --ext EXT      File Extension to download\r\n"
     ]
    }
   ],
   "source": [
    "!porder multiproc -h"
   ]
  },
  {
   "cell_type": "code",
   "execution_count": 16,
   "metadata": {},
   "outputs": [
    {
     "name": "stdout",
     "output_type": "stream",
     "text": [
      "Polling with exponential backoff..\n",
      "Order completed with status: success\n",
      "Processing a url list with 6 items\n",
      "\n",
      "\n",
      "File                                                                                                 Completed at        \n",
      "20190606_164931_104b_manifest.json                                                                    5.07s              \n",
      "20190606_164931_104b_3B_AnalyticMS_metadata.xml                                                       5.13s              \n",
      "20190606_164931_104b_metadata.json                                                                    5.19s              \n",
      "20190606_164931_104b_3B_AnalyticMS_DN_udm.tif                                                         5.25s              \n",
      "20190606_164931_104b_3B_udm2.tif                                                                      5.32s              \n",
      "20190606_164931_104b_3B_AnalyticMS_SR.tif                                                            16.91s              \n"
     ]
    }
   ],
   "source": [
    "!porder multiproc --url \"https://api.planet.com/compute/ops/orders/v2/0fc84f65-3306-4af8-81f1-500dac6eac5b\" --local \"/home/jovyan/data/\""
   ]
  },
  {
   "cell_type": "markdown",
   "metadata": {},
   "source": [
    "Sweet! We have imagery. Each analytic_sr type Planetscope scene will come with a Usable Data Mask (udm), surface reflectance, and some metadata. Let's plot the image we downloaded with python! We will use xarray to load in the image data and plot it. rioxarray is an extension that preserve sgeospatial metadata and brings functionaility for geospatial operations like reprojecting. Both packages can be installed with `pip` or with `conda` from the conda-forge channel."
   ]
  },
  {
   "cell_type": "code",
   "execution_count": 1,
   "metadata": {},
   "outputs": [
    {
     "data": {
      "text/plain": [
       "<xarray.core.options.set_options at 0x7f7e2ba5a390>"
      ]
     },
     "execution_count": 1,
     "metadata": {},
     "output_type": "execute_result"
    }
   ],
   "source": [
    "import xarray as xa\n",
    "import rioxarray\n",
    "%matplotlib inline\n",
    "xa.set_options(display_style = \"text\")"
   ]
  },
  {
   "cell_type": "code",
   "execution_count": 2,
   "metadata": {},
   "outputs": [
    {
     "data": {
      "text/html": [
       "<pre>&lt;xarray.DataArray (band: 4, y: 4091, x: 8251)&gt;\n",
       "[135019364 values with dtype=uint16]\n",
       "Coordinates:\n",
       "  * band     (band) int64 1 2 3 4\n",
       "  * y        (y) float64 3.509e+06 3.509e+06 3.509e+06 ... 3.497e+06 3.497e+06\n",
       "  * x        (x) float64 5.668e+05 5.668e+05 5.668e+05 ... 5.915e+05 5.915e+05\n",
       "Attributes:\n",
       "    transform:                 (3.0, 0.0, 566751.0, 0.0, -3.0, 3509481.0)\n",
       "    crs:                       +init=epsg:32612\n",
       "    res:                       (3.0, 3.0)\n",
       "    is_tiled:                  1\n",
       "    nodatavals:                (0.0, 0.0, 0.0, 0.0)\n",
       "    scales:                    (1.0, 1.0, 1.0, 1.0)\n",
       "    offsets:                   (0.0, 0.0, 0.0, 0.0)\n",
       "    descriptions:              (&#x27;blue&#x27;, &#x27;green&#x27;, &#x27;red&#x27;, &#x27;nir&#x27;)\n",
       "    AREA_OR_POINT:             Area\n",
       "    TIFFTAG_DATETIME:          2019:06:06 16:49:31\n",
       "    TIFFTAG_IMAGEDESCRIPTION:  {&quot;atmospheric_correction&quot;: {&quot;aerosol_model&quot;: &quot;...</pre>"
      ],
      "text/plain": [
       "<xarray.DataArray (band: 4, y: 4091, x: 8251)>\n",
       "[135019364 values with dtype=uint16]\n",
       "Coordinates:\n",
       "  * band     (band) int64 1 2 3 4\n",
       "  * y        (y) float64 3.509e+06 3.509e+06 3.509e+06 ... 3.497e+06 3.497e+06\n",
       "  * x        (x) float64 5.668e+05 5.668e+05 5.668e+05 ... 5.915e+05 5.915e+05\n",
       "Attributes:\n",
       "    transform:                 (3.0, 0.0, 566751.0, 0.0, -3.0, 3509481.0)\n",
       "    crs:                       +init=epsg:32612\n",
       "    res:                       (3.0, 3.0)\n",
       "    is_tiled:                  1\n",
       "    nodatavals:                (0.0, 0.0, 0.0, 0.0)\n",
       "    scales:                    (1.0, 1.0, 1.0, 1.0)\n",
       "    offsets:                   (0.0, 0.0, 0.0, 0.0)\n",
       "    descriptions:              ('blue', 'green', 'red', 'nir')\n",
       "    AREA_OR_POINT:             Area\n",
       "    TIFFTAG_DATETIME:          2019:06:06 16:49:31\n",
       "    TIFFTAG_IMAGEDESCRIPTION:  {\"atmospheric_correction\": {\"aerosol_model\": \"..."
      ]
     },
     "execution_count": 2,
     "metadata": {},
     "output_type": "execute_result"
    }
   ],
   "source": [
    "san_pedro_sr = xa.open_rasterio(\"data/20190606_164931_104b_3B_AnalyticMS_SR.tif\")\n",
    "san_pedro_sr"
   ]
  },
  {
   "cell_type": "code",
   "execution_count": 4,
   "metadata": {},
   "outputs": [],
   "source": [
    "san_pedro_sr_bgr = san_pedro_sr.sel(band=slice(1,3)) # we make a new variable, keeping the blue, green, and red bands"
   ]
  },
  {
   "cell_type": "code",
   "execution_count": 5,
   "metadata": {},
   "outputs": [],
   "source": [
    "san_pedro_sr_rgb = san_pedro_sr_bgr[::-1, ...] # reversing the order of the band axis from bgr to rgb"
   ]
  },
  {
   "cell_type": "markdown",
   "metadata": {},
   "source": [
    "The in python we can use xarray's `imshow` function to plot single band or rgb data. `robust=True` clips the visualization to the minimum and maximum values in the dataset."
   ]
  },
  {
   "cell_type": "code",
   "execution_count": 7,
   "metadata": {},
   "outputs": [
    {
     "data": {
      "text/html": [
       "<pre>&lt;xarray.DataArray (band: 3, y: 4091, x: 8251)&gt;\n",
       "[101264523 values with dtype=uint16]\n",
       "Coordinates:\n",
       "  * band     (band) int64 3 2 1\n",
       "  * y        (y) float64 3.509e+06 3.509e+06 3.509e+06 ... 3.497e+06 3.497e+06\n",
       "  * x        (x) float64 5.668e+05 5.668e+05 5.668e+05 ... 5.915e+05 5.915e+05\n",
       "Attributes:\n",
       "    transform:                 (3.0, 0.0, 566751.0, 0.0, -3.0, 3509481.0)\n",
       "    crs:                       +init=epsg:32612\n",
       "    res:                       (3.0, 3.0)\n",
       "    is_tiled:                  1\n",
       "    nodatavals:                (0.0, 0.0, 0.0, 0.0)\n",
       "    scales:                    (1.0, 1.0, 1.0, 1.0)\n",
       "    offsets:                   (0.0, 0.0, 0.0, 0.0)\n",
       "    descriptions:              (&#x27;blue&#x27;, &#x27;green&#x27;, &#x27;red&#x27;, &#x27;nir&#x27;)\n",
       "    AREA_OR_POINT:             Area\n",
       "    TIFFTAG_DATETIME:          2019:06:06 16:49:31\n",
       "    TIFFTAG_IMAGEDESCRIPTION:  {&quot;atmospheric_correction&quot;: {&quot;aerosol_model&quot;: &quot;...</pre>"
      ],
      "text/plain": [
       "<xarray.DataArray (band: 3, y: 4091, x: 8251)>\n",
       "[101264523 values with dtype=uint16]\n",
       "Coordinates:\n",
       "  * band     (band) int64 3 2 1\n",
       "  * y        (y) float64 3.509e+06 3.509e+06 3.509e+06 ... 3.497e+06 3.497e+06\n",
       "  * x        (x) float64 5.668e+05 5.668e+05 5.668e+05 ... 5.915e+05 5.915e+05\n",
       "Attributes:\n",
       "    transform:                 (3.0, 0.0, 566751.0, 0.0, -3.0, 3509481.0)\n",
       "    crs:                       +init=epsg:32612\n",
       "    res:                       (3.0, 3.0)\n",
       "    is_tiled:                  1\n",
       "    nodatavals:                (0.0, 0.0, 0.0, 0.0)\n",
       "    scales:                    (1.0, 1.0, 1.0, 1.0)\n",
       "    offsets:                   (0.0, 0.0, 0.0, 0.0)\n",
       "    descriptions:              ('blue', 'green', 'red', 'nir')\n",
       "    AREA_OR_POINT:             Area\n",
       "    TIFFTAG_DATETIME:          2019:06:06 16:49:31\n",
       "    TIFFTAG_IMAGEDESCRIPTION:  {\"atmospheric_correction\": {\"aerosol_model\": \"..."
      ]
     },
     "execution_count": 7,
     "metadata": {},
     "output_type": "execute_result"
    }
   ],
   "source": [
    "san_pedro_sr_rgb.persist()"
   ]
  },
  {
   "cell_type": "code",
   "execution_count": null,
   "metadata": {},
   "outputs": [
    {
     "name": "stderr",
     "output_type": "stream",
     "text": [
      "Clipping input data to the valid range for imshow with RGB data ([0..1] for floats or [0..255] for integers).\n"
     ]
    }
   ],
   "source": [
    "%matplotlib inline\n",
    "san_pedro_sr_rgb.persist().plot.imshow()"
   ]
  },
  {
   "cell_type": "markdown",
   "metadata": {},
   "source": [
    "Let's take a look at it in QGIS so that we can compare our data to basemap layers.\n",
    "\n",
    "Our scene looks pretty good once we normalize the display in QGIS by the maximum and minimum of the scene. And with a false color composite, the riparian forest clearly pops out and individual tree crowns are nearly distinguishable. To examine the metadata, the simplest way is to load the json in a tabular format, with rows and columns like an excel spreadsheet. To do this we can use pandas, the python data analysis package.\n",
    "\n",
    "`pandas` comes with anaconda and if you don't have it, do `pip install pandas`"
   ]
  },
  {
   "cell_type": "code",
   "execution_count": null,
   "metadata": {},
   "outputs": [],
   "source": [
    "import pandas as pd\n",
    "pd.read_json(\"data/20190606_164931_104b_metadata.json\").drop(\"geometry\", axis=1)"
   ]
  },
  {
   "cell_type": "markdown",
   "metadata": {},
   "source": [
    "If you have questions about the metadata attributes,a good place to submit questions is the [Planet Community Forum](https://support.planet.com/hc/en-us/community/topics/). You can find more tutorials on working with Planet imagery, exploring the usable data mask, and more at the Developer Resource Center: https://developers.planet.com/planetschool/\n",
    "\n",
    "Keep in mind that some of the tutorials listed are newer than others. Anything referencing the Version 1 API is old, and it's best to use porder instead. If you'd like advice about which resources to check out next or have questions about how to use Planet in your research, talk to Ryan (ravery@ucsb.edu)."
   ]
  }
 ],
 "metadata": {
  "kernelspec": {
   "display_name": "Python 3",
   "language": "python",
   "name": "python3"
  },
  "language_info": {
   "codemirror_mode": {
    "name": "ipython",
    "version": 3
   },
   "file_extension": ".py",
   "mimetype": "text/x-python",
   "name": "python",
   "nbconvert_exporter": "python",
   "pygments_lexer": "ipython3",
   "version": "3.6.7"
  }
 },
 "nbformat": 4,
 "nbformat_minor": 4
}
